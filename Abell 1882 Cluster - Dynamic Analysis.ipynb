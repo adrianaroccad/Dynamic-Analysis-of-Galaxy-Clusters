{
 "cells": [
  {
   "cell_type": "markdown",
   "id": "5125969d",
   "metadata": {},
   "source": [
    "# Dinámica del Cluster Abell 1882"
   ]
  },
  {
   "cell_type": "markdown",
   "id": "7a3d273f",
   "metadata": {},
   "source": [
    "En primer lugar, se procedió a cargar todas las librerías que se utilizarán en el programa:"
   ]
  },
  {
   "cell_type": "code",
   "execution_count": 1,
   "id": "f8c3f2d0",
   "metadata": {},
   "outputs": [],
   "source": [
    "from astroquery.vizier import Vizier\n",
    "from astroquery.simbad import Simbad\n",
    "from astropy.table import Table, vstack\n",
    "from astropy.io import fits\n",
    "from astropy.coordinates import SkyCoord\n",
    "from astropy import units as u\n",
    "import matplotlib.pyplot as plt\n",
    "import matplotlib as mpl\n",
    "from scipy.optimize import curve_fit\n",
    "import seaborn as sns\n",
    "import numpy as np\n",
    "import pandas as pd"
   ]
  },
  {
   "cell_type": "code",
   "execution_count": 2,
   "id": "cc9d4229",
   "metadata": {},
   "outputs": [],
   "source": [
    "dataframe = pd.read_csv(r\"C:\\Users\\amrd_\\Documents\\Galaxy Clusters\\abell1882.csv\")"
   ]
  },
  {
   "cell_type": "code",
   "execution_count": 3,
   "id": "c3d89c42",
   "metadata": {},
   "outputs": [],
   "source": [
    "result = pd.read_csv(r\"C:\\Users\\amrd_\\Documents\\Galaxy Clusters\\result.csv\")\n",
    "result = result.rename(columns={'z':'Redshift','ra':'RA','dec':'DEC'})"
   ]
  },
  {
   "cell_type": "code",
   "execution_count": 4,
   "id": "63dab7af",
   "metadata": {},
   "outputs": [
    {
     "data": {
      "text/html": [
       "<div>\n",
       "<style scoped>\n",
       "    .dataframe tbody tr th:only-of-type {\n",
       "        vertical-align: middle;\n",
       "    }\n",
       "\n",
       "    .dataframe tbody tr th {\n",
       "        vertical-align: top;\n",
       "    }\n",
       "\n",
       "    .dataframe thead th {\n",
       "        text-align: right;\n",
       "    }\n",
       "</style>\n",
       "<table border=\"1\" class=\"dataframe\">\n",
       "  <thead>\n",
       "    <tr style=\"text-align: right;\">\n",
       "      <th></th>\n",
       "      <th>RA</th>\n",
       "      <th>DEC</th>\n",
       "      <th>Redshift</th>\n",
       "    </tr>\n",
       "  </thead>\n",
       "  <tbody>\n",
       "    <tr>\n",
       "      <th>0</th>\n",
       "      <td>213.80917</td>\n",
       "      <td>-0.50111</td>\n",
       "      <td>0.136700</td>\n",
       "    </tr>\n",
       "    <tr>\n",
       "      <th>6</th>\n",
       "      <td>213.81153</td>\n",
       "      <td>-0.49305</td>\n",
       "      <td>0.145314</td>\n",
       "    </tr>\n",
       "    <tr>\n",
       "      <th>13</th>\n",
       "      <td>213.80209</td>\n",
       "      <td>-0.51382</td>\n",
       "      <td>0.141000</td>\n",
       "    </tr>\n",
       "    <tr>\n",
       "      <th>16</th>\n",
       "      <td>213.81811</td>\n",
       "      <td>-0.48521</td>\n",
       "      <td>0.138000</td>\n",
       "    </tr>\n",
       "    <tr>\n",
       "      <th>24</th>\n",
       "      <td>213.82917</td>\n",
       "      <td>-0.50611</td>\n",
       "      <td>0.135000</td>\n",
       "    </tr>\n",
       "    <tr>\n",
       "      <th>...</th>\n",
       "      <td>...</td>\n",
       "      <td>...</td>\n",
       "      <td>...</td>\n",
       "    </tr>\n",
       "    <tr>\n",
       "      <th>10270</th>\n",
       "      <td>213.94710</td>\n",
       "      <td>-0.98006</td>\n",
       "      <td>0.152682</td>\n",
       "    </tr>\n",
       "    <tr>\n",
       "      <th>10301</th>\n",
       "      <td>214.02611</td>\n",
       "      <td>-0.95104</td>\n",
       "      <td>0.138000</td>\n",
       "    </tr>\n",
       "    <tr>\n",
       "      <th>10305</th>\n",
       "      <td>213.95360</td>\n",
       "      <td>-0.97937</td>\n",
       "      <td>1.007610</td>\n",
       "    </tr>\n",
       "    <tr>\n",
       "      <th>10310</th>\n",
       "      <td>214.07670</td>\n",
       "      <td>-0.92315</td>\n",
       "      <td>0.681938</td>\n",
       "    </tr>\n",
       "    <tr>\n",
       "      <th>10312</th>\n",
       "      <td>214.07678</td>\n",
       "      <td>-0.92314</td>\n",
       "      <td>0.682120</td>\n",
       "    </tr>\n",
       "  </tbody>\n",
       "</table>\n",
       "<p>1085 rows × 3 columns</p>\n",
       "</div>"
      ],
      "text/plain": [
       "              RA      DEC  Redshift\n",
       "0      213.80917 -0.50111  0.136700\n",
       "6      213.81153 -0.49305  0.145314\n",
       "13     213.80209 -0.51382  0.141000\n",
       "16     213.81811 -0.48521  0.138000\n",
       "24     213.82917 -0.50611  0.135000\n",
       "...          ...      ...       ...\n",
       "10270  213.94710 -0.98006  0.152682\n",
       "10301  214.02611 -0.95104  0.138000\n",
       "10305  213.95360 -0.97937  1.007610\n",
       "10310  214.07670 -0.92315  0.681938\n",
       "10312  214.07678 -0.92314  0.682120\n",
       "\n",
       "[1085 rows x 3 columns]"
      ]
     },
     "execution_count": 4,
     "metadata": {},
     "output_type": "execute_result"
    }
   ],
   "source": [
    "# Copia del dataframe sin considerar la columna de Object Name\n",
    "dff=dataframe[['RA','DEC','Redshift']]\n",
    "df = dff.dropna()\n",
    "df"
   ]
  },
  {
   "cell_type": "code",
   "execution_count": 5,
   "id": "51177dfd",
   "metadata": {},
   "outputs": [],
   "source": [
    "gama = pd.read_csv(r\"C:\\Users\\amrd_\\Documents\\Galaxy Clusters\\gama.csv\")"
   ]
  },
  {
   "cell_type": "code",
   "execution_count": 6,
   "id": "361dbd24",
   "metadata": {},
   "outputs": [],
   "source": [
    "min_zsp = 0.133\n",
    "max_zsp = 0.144"
   ]
  },
  {
   "cell_type": "code",
   "execution_count": 7,
   "id": "457e6a3e",
   "metadata": {
    "scrolled": false
   },
   "outputs": [],
   "source": [
    "galex = pd.read_csv(r\"C:\\Users\\amrd_\\Documents\\Galaxy Clusters\\galex.csv\")\n",
    "galex = galex.rename(columns={'zspec':'Redshift','RAJ2000':'RA','DEJ2000':'DEC'})"
   ]
  },
  {
   "cell_type": "markdown",
   "id": "142a8526",
   "metadata": {},
   "source": [
    "En este caso, se accedió a la lista de catálogos del Data Release 12 (DR12) del Sloan Digital Sky Surveys (SDSS):"
   ]
  },
  {
   "cell_type": "code",
   "execution_count": 8,
   "id": "4ee2197c",
   "metadata": {},
   "outputs": [
    {
     "name": "stdout",
     "output_type": "stream",
     "text": [
      "V/147 :  The SDSS Photometric Catalogue, Release 12 (Alam+, 2015)\n",
      "J/ApJ/807/178 :  Newly rich galaxy clusters identified in SDSS-DR12 (Wen+, 2015)\n",
      "J/ApJ/835/161 :  A cosmic void catalog of SDSS DR12 BOSS galaxies (Mao+, 2017)\n",
      "J/ApJ/888/85 :  Ghostly strong Lya absorbers in SDSS DR12 (Fathivavsari, 2020)\n",
      "J/ApJ/901/93 :  Model atmosphere analysis of hot WDs from SDSS DR12 (Bedard+, 2020)\n",
      "J/ApJS/225/23 :  Compact groups of galaxies from SDSS-DR12 (MLCG) (Sohn+, 2016)\n",
      "J/ApJS/228/9 :  Physical parameters of ~300000 SDSS-DR12 QSOs (Kozlowski, 2017)\n",
      "J/ApJS/229/39 :  Narrow line Seyfert 1 galaxies from SDSS-DR12 (Rakshit+, 2017)\n",
      "J/A+A/583/A86 :  DB white dwarfs in SDSS DR10 and DR12 (Koester+, 2015)\n",
      "J/A+A/596/A14 :  Group catalogues of the local universe (Saulder+, 2016)\n",
      "J/PASP/130/H4203 :  Newly spectroscopically confirmed DB white dwarfs (Kong+, 2018)\n",
      "J/MNRAS/452/4153 :  SDSS DR12 QSOs [OIII] doublet (Albareti+, 2015)\n",
      "J/MNRAS/455/3413 :  New white dwarf and subdwarf stars in SDSS DR12 (Kepler+, 2016)\n",
      "J/MNRAS/469/2102 :  White dwarf population from the SDSS DR12 (Anguiano+, 2017)\n"
     ]
    },
    {
     "name": "stderr",
     "output_type": "stream",
     "text": [
      "WARNING: AstropyDeprecationWarning: \"pedantic\" was deprecated in version 5.0 and will be removed in a future version. Use argument \"verify\" instead. [astroquery.vizier.core]\n"
     ]
    }
   ],
   "source": [
    "catalog_list_sdss = Vizier.find_catalogs('SDSS DR12')\n",
    "for k, v in catalog_list_sdss.items():\n",
    "    print(k, ': ', v.description)"
   ]
  },
  {
   "cell_type": "markdown",
   "id": "29f25b62",
   "metadata": {},
   "source": [
    "Aquí se procedió a realizar un query al catálogo V/147 en la región desde el centro del Cúmulo Abell 1882 hasta su radio de 45 arcmin:"
   ]
  },
  {
   "cell_type": "code",
   "execution_count": 9,
   "id": "b37d18ca",
   "metadata": {},
   "outputs": [
    {
     "name": "stderr",
     "output_type": "stream",
     "text": [
      "WARNING: InputWarning: Coordinate string is being interpreted as an ICRS coordinate. [astroquery.utils.commons]\n",
      "WARNING: AstropyDeprecationWarning: \"pedantic\" was deprecated in version 5.0 and will be removed in a future version. Use argument \"verify\" instead. [astroquery.vizier.core]\n"
     ]
    },
    {
     "name": "stdout",
     "output_type": "stream",
     "text": [
      "TableList with 1 tables:\n",
      "\t'0:V/147/sdss12' with 23 column(s) and 50 row(s) \n"
     ]
    }
   ],
   "source": [
    "coordinates = \"14h56m00s +19d53m00s\"\n",
    "results_test_sdss = Vizier.query_region(coordinates, radius=\"0d45m0s\", catalog='V/147')\n",
    "print(results_test_sdss)"
   ]
  },
  {
   "cell_type": "code",
   "execution_count": 10,
   "id": "74ba6de8",
   "metadata": {},
   "outputs": [
    {
     "name": "stdout",
     "output_type": "stream",
     "text": [
      "['RA_ICRS', 'DE_ICRS', 'mode', 'q_mode', 'class', 'SDSS12', 'm_SDSS12', '_tab1_18', 'Q', 'umag', 'e_umag', 'gmag', 'e_gmag', 'rmag', 'e_rmag', 'imag', 'e_imag', 'zmag', 'e_zmag', 'zsp', 'zph', 'e_zph', '__zph_']\n"
     ]
    }
   ],
   "source": [
    "# Nombres de las columnas de la tabla del catálogo\n",
    "print(results_test_sdss[0].colnames)"
   ]
  },
  {
   "cell_type": "markdown",
   "id": "c37221c2",
   "metadata": {},
   "source": [
    "Se definió un filtro para acceder a las columnas que son de interés del query al SDSS DR12, que son los datos de las galaxias (¨class¨ = 3) que corresponden a las Coordenadas Ecuatoriales J2000 (¨RA_ICRS¨ y ¨DE_ICRS¨ ambas en grados °), los redshifts (zsp) y las magnitudes en diferentes filtros (u, g, r, i y z) junto con sus errores respectivos."
   ]
  },
  {
   "cell_type": "code",
   "execution_count": 11,
   "id": "e48040d2",
   "metadata": {},
   "outputs": [],
   "source": [
    "v1 = Vizier(columns=['RA_ICRS', 'DE_ICRS', 'zsp','umag', 'e_umag', 'gmag', 'e_gmag', 'rmag', 'e_rmag', 'imag', 'e_imag', 'zmag', 'e_zmag'],\n",
    "            column_filters={'class': '==3', 'mode': '==1'})"
   ]
  },
  {
   "cell_type": "code",
   "execution_count": 12,
   "id": "d52740d1",
   "metadata": {},
   "outputs": [
    {
     "name": "stdout",
     "output_type": "stream",
     "text": [
      "TableList with 1 tables:\n",
      "\t'0:V/147/sdss12' with 13 column(s) and 50 row(s) \n"
     ]
    },
    {
     "name": "stderr",
     "output_type": "stream",
     "text": [
      "WARNING: InputWarning: Coordinate string is being interpreted as an ICRS coordinate. [astroquery.utils.commons]\n",
      "WARNING: AstropyDeprecationWarning: \"pedantic\" was deprecated in version 5.0 and will be removed in a future version. Use argument \"verify\" instead. [astroquery.vizier.core]\n"
     ]
    }
   ],
   "source": [
    "results_coma_sdss12 = v1.query_region(coordinates, radius='0d45m0s', catalog='V/147')\n",
    "print(results_coma_sdss12)"
   ]
  },
  {
   "cell_type": "code",
   "execution_count": 13,
   "id": "0bb1eb3b",
   "metadata": {},
   "outputs": [],
   "source": [
    "# El resultado fue una tabla con los datos respectivos correspondientes a 50 galaxias\n",
    "sdss_dr12 = results_coma_sdss12[0]"
   ]
  },
  {
   "cell_type": "code",
   "execution_count": 14,
   "id": "182071ca",
   "metadata": {},
   "outputs": [],
   "source": [
    "# Se convirtió la tabla de Astropy en un dataframe y se renombraron las columnas respectivas\n",
    "sdss = pd.DataFrame(np.array(sdss_dr12))\n",
    "sdss = sdss.rename(columns={ 'zsp': 'Redshift','DE_ICRS': 'DEC', 'RA_ICRS': 'RA'})"
   ]
  },
  {
   "cell_type": "code",
   "execution_count": 15,
   "id": "347c4e49",
   "metadata": {},
   "outputs": [
    {
     "name": "stderr",
     "output_type": "stream",
     "text": [
      "WARNING: AstropyDeprecationWarning: \"pedantic\" was deprecated in version 5.0 and will be removed in a future version. Use argument \"verify\" instead. [astroquery.vizier.core]\n"
     ]
    },
    {
     "name": "stdout",
     "output_type": "stream",
     "text": [
      "II/306 :  The SDSS Photometric Catalog, Release 8 (Adelman-McCarthy+, 2011)\n",
      "J/ApJ/738/79 :  SDSS-DR8 BHB stars in the Milky Way's halo (Xue+, 2011)\n",
      "J/ApJ/765/12 :  Carbon stars and DQ white dwarfs from SDSS-DR7+DR8 (Green, 2013)\n",
      "J/ApJ/775/116 :  z<0.06 active black hole galaxies from SDSS-DR8 (Reines+, 2013)\n",
      "J/ApJ/785/104 :  redMaPPer. I. Algorithm applied to SDSS DR8 (Rykoff+, 2014)\n",
      "J/ApJ/809/146 :  SDSS-DR8 isolated low-mass galaxies (Bradford+, 2015)\n",
      "J/ApJS/215/24 :  Census of blue stars in SDSS DR8 (Scibelli+, 2014)\n",
      "J/ApJS/223/20 :  SDSS-DR8 galaxies classified by WND-CHARM (Kuminski+, 2016)\n",
      "J/ApJS/244/22 :  SDSS DR8 redMaPPer clusters Chandra follow-up (Hollowood+, 2019)\n",
      "J/A+A/540/A106 :  SDSS-DR8 groups and clusters of galaxies (Tempel+, 2012)\n",
      "J/A+A/540/A123 :  Galaxy clusters from SDSS DR8 (Einasto+, 2012)\n",
      "J/A+A/542/A36 :  Rich clusters from SDSS DR8 (Einasto+, 2012)\n",
      "J/A+A/544/A81 :  Supernovae and their hosts in the SDSS DR8 (Hakobyan+, 2012)\n",
      "J/A+A/598/A92 :  New ultracool subdwarfs (Lodieu+, 2017)\n",
      "J/AJ/143/31 :  Properties of fragile binary candidates in SDSS DR8 (Zhao+, 2012)\n",
      "J/MNRAS/433/3398 :  White dwarf main-sequence binaries (Rebassa-Mansergas+, 2013)\n"
     ]
    },
    {
     "name": "stderr",
     "output_type": "stream",
     "text": [
      "WARNING: UnitsWarning: Unit 'Sun' not supported by the VOUnit standard. Did you mean uN? [astropy.units.format.vounit]\n"
     ]
    }
   ],
   "source": [
    "catalog_list_sdss2 = Vizier.find_catalogs('SDSS DR8')\n",
    "for k, v in catalog_list_sdss2.items():\n",
    "    print(k, ': ', v.description)"
   ]
  },
  {
   "cell_type": "code",
   "execution_count": 16,
   "id": "a6580ee4",
   "metadata": {},
   "outputs": [
    {
     "name": "stderr",
     "output_type": "stream",
     "text": [
      "WARNING: InputWarning: Coordinate string is being interpreted as an ICRS coordinate. [astroquery.utils.commons]\n",
      "WARNING: AstropyDeprecationWarning: \"pedantic\" was deprecated in version 5.0 and will be removed in a future version. Use argument \"verify\" instead. [astroquery.vizier.core]\n"
     ]
    },
    {
     "name": "stdout",
     "output_type": "stream",
     "text": [
      "TableList with 1 tables:\n",
      "\t'0:II/306/sdss8' with 21 column(s) and 50 row(s) \n"
     ]
    }
   ],
   "source": [
    "results_test_sdss2 = Vizier.query_region(coordinates, radius=\"0d30m0s\", catalog='II/306')\n",
    "print(results_test_sdss2)"
   ]
  },
  {
   "cell_type": "code",
   "execution_count": 17,
   "id": "29b05a45",
   "metadata": {},
   "outputs": [
    {
     "name": "stdout",
     "output_type": "stream",
     "text": [
      "TableList with 1 tables:\n",
      "\t'0:II/306/sdss8' with 13 column(s) and 50 row(s) \n"
     ]
    },
    {
     "name": "stderr",
     "output_type": "stream",
     "text": [
      "WARNING: InputWarning: Coordinate string is being interpreted as an ICRS coordinate. [astroquery.utils.commons]\n",
      "WARNING: AstropyDeprecationWarning: \"pedantic\" was deprecated in version 5.0 and will be removed in a future version. Use argument \"verify\" instead. [astroquery.vizier.core]\n"
     ]
    }
   ],
   "source": [
    "results_coma_sdss8 = v1.query_region(coordinates, radius='0d30m0s', catalog='II/306')\n",
    "print(results_coma_sdss8)"
   ]
  },
  {
   "cell_type": "code",
   "execution_count": 18,
   "id": "077cdc21",
   "metadata": {},
   "outputs": [],
   "source": [
    "sdss_dr8 = results_coma_sdss8[0]\n",
    "sdss8 = pd.DataFrame(np.array(sdss_dr8))\n",
    "sdss8 = sdss8.rename(columns={ 'zsp': 'Redshift','DE_ICRS': 'DEC', 'RA_ICRS': 'RA'})"
   ]
  },
  {
   "cell_type": "code",
   "execution_count": 19,
   "id": "6d9e5f31",
   "metadata": {},
   "outputs": [],
   "source": [
    "tabla1 = sdss\n",
    "tabla2 = sdss8"
   ]
  },
  {
   "cell_type": "code",
   "execution_count": 20,
   "id": "42751869",
   "metadata": {},
   "outputs": [
    {
     "data": {
      "text/html": [
       "<div>\n",
       "<style scoped>\n",
       "    .dataframe tbody tr th:only-of-type {\n",
       "        vertical-align: middle;\n",
       "    }\n",
       "\n",
       "    .dataframe tbody tr th {\n",
       "        vertical-align: top;\n",
       "    }\n",
       "\n",
       "    .dataframe thead th {\n",
       "        text-align: right;\n",
       "    }\n",
       "</style>\n",
       "<table border=\"1\" class=\"dataframe\">\n",
       "  <thead>\n",
       "    <tr style=\"text-align: right;\">\n",
       "      <th></th>\n",
       "      <th>RA</th>\n",
       "      <th>DEC</th>\n",
       "      <th>Redshift</th>\n",
       "      <th>umag</th>\n",
       "      <th>e_umag</th>\n",
       "      <th>gmag</th>\n",
       "      <th>e_gmag</th>\n",
       "      <th>rmag</th>\n",
       "      <th>e_rmag</th>\n",
       "      <th>imag</th>\n",
       "      <th>e_imag</th>\n",
       "      <th>zmag</th>\n",
       "      <th>e_zmag</th>\n",
       "    </tr>\n",
       "  </thead>\n",
       "  <tbody>\n",
       "    <tr>\n",
       "      <th>0</th>\n",
       "      <td>223.955262</td>\n",
       "      <td>19.143253</td>\n",
       "      <td>NaN</td>\n",
       "      <td>23.669001</td>\n",
       "      <td>1.023</td>\n",
       "      <td>22.368999</td>\n",
       "      <td>0.134</td>\n",
       "      <td>21.995001</td>\n",
       "      <td>0.154</td>\n",
       "      <td>21.039000</td>\n",
       "      <td>0.101</td>\n",
       "      <td>21.062000</td>\n",
       "      <td>0.399</td>\n",
       "    </tr>\n",
       "    <tr>\n",
       "      <th>1</th>\n",
       "      <td>223.952273</td>\n",
       "      <td>19.145238</td>\n",
       "      <td>NaN</td>\n",
       "      <td>24.374001</td>\n",
       "      <td>1.275</td>\n",
       "      <td>23.202999</td>\n",
       "      <td>0.272</td>\n",
       "      <td>22.028000</td>\n",
       "      <td>0.161</td>\n",
       "      <td>21.836000</td>\n",
       "      <td>0.205</td>\n",
       "      <td>21.627001</td>\n",
       "      <td>0.560</td>\n",
       "    </tr>\n",
       "    <tr>\n",
       "      <th>2</th>\n",
       "      <td>223.937299</td>\n",
       "      <td>19.145032</td>\n",
       "      <td>NaN</td>\n",
       "      <td>26.962000</td>\n",
       "      <td>0.658</td>\n",
       "      <td>24.714001</td>\n",
       "      <td>1.567</td>\n",
       "      <td>22.000000</td>\n",
       "      <td>0.344</td>\n",
       "      <td>20.892000</td>\n",
       "      <td>0.188</td>\n",
       "      <td>20.179001</td>\n",
       "      <td>0.353</td>\n",
       "    </tr>\n",
       "    <tr>\n",
       "      <th>3</th>\n",
       "      <td>223.849618</td>\n",
       "      <td>19.147248</td>\n",
       "      <td>NaN</td>\n",
       "      <td>22.656000</td>\n",
       "      <td>0.439</td>\n",
       "      <td>21.782000</td>\n",
       "      <td>0.078</td>\n",
       "      <td>20.601999</td>\n",
       "      <td>0.046</td>\n",
       "      <td>20.469999</td>\n",
       "      <td>0.061</td>\n",
       "      <td>20.493000</td>\n",
       "      <td>0.221</td>\n",
       "    </tr>\n",
       "    <tr>\n",
       "      <th>4</th>\n",
       "      <td>223.902732</td>\n",
       "      <td>19.153656</td>\n",
       "      <td>NaN</td>\n",
       "      <td>23.987000</td>\n",
       "      <td>1.554</td>\n",
       "      <td>22.483999</td>\n",
       "      <td>0.194</td>\n",
       "      <td>21.548000</td>\n",
       "      <td>0.141</td>\n",
       "      <td>20.865999</td>\n",
       "      <td>0.117</td>\n",
       "      <td>20.306999</td>\n",
       "      <td>0.256</td>\n",
       "    </tr>\n",
       "  </tbody>\n",
       "</table>\n",
       "</div>"
      ],
      "text/plain": [
       "           RA        DEC  Redshift       umag  e_umag       gmag  e_gmag  \\\n",
       "0  223.955262  19.143253       NaN  23.669001   1.023  22.368999   0.134   \n",
       "1  223.952273  19.145238       NaN  24.374001   1.275  23.202999   0.272   \n",
       "2  223.937299  19.145032       NaN  26.962000   0.658  24.714001   1.567   \n",
       "3  223.849618  19.147248       NaN  22.656000   0.439  21.782000   0.078   \n",
       "4  223.902732  19.153656       NaN  23.987000   1.554  22.483999   0.194   \n",
       "\n",
       "        rmag  e_rmag       imag  e_imag       zmag  e_zmag  \n",
       "0  21.995001   0.154  21.039000   0.101  21.062000   0.399  \n",
       "1  22.028000   0.161  21.836000   0.205  21.627001   0.560  \n",
       "2  22.000000   0.344  20.892000   0.188  20.179001   0.353  \n",
       "3  20.601999   0.046  20.469999   0.061  20.493000   0.221  \n",
       "4  21.548000   0.141  20.865999   0.117  20.306999   0.256  "
      ]
     },
     "execution_count": 20,
     "metadata": {},
     "output_type": "execute_result"
    }
   ],
   "source": [
    "sdss.head()"
   ]
  },
  {
   "cell_type": "code",
   "execution_count": 21,
   "id": "64b793b1",
   "metadata": {},
   "outputs": [
    {
     "data": {
      "text/html": [
       "<div>\n",
       "<style scoped>\n",
       "    .dataframe tbody tr th:only-of-type {\n",
       "        vertical-align: middle;\n",
       "    }\n",
       "\n",
       "    .dataframe tbody tr th {\n",
       "        vertical-align: top;\n",
       "    }\n",
       "\n",
       "    .dataframe thead th {\n",
       "        text-align: right;\n",
       "    }\n",
       "</style>\n",
       "<table border=\"1\" class=\"dataframe\">\n",
       "  <thead>\n",
       "    <tr style=\"text-align: right;\">\n",
       "      <th></th>\n",
       "      <th>RA</th>\n",
       "      <th>DEC</th>\n",
       "      <th>Redshift</th>\n",
       "      <th>umag</th>\n",
       "      <th>e_umag</th>\n",
       "      <th>gmag</th>\n",
       "      <th>e_gmag</th>\n",
       "      <th>rmag</th>\n",
       "      <th>e_rmag</th>\n",
       "      <th>imag</th>\n",
       "      <th>e_imag</th>\n",
       "      <th>zmag</th>\n",
       "      <th>e_zmag</th>\n",
       "    </tr>\n",
       "  </thead>\n",
       "  <tbody>\n",
       "    <tr>\n",
       "      <th>0</th>\n",
       "      <td>223.696315</td>\n",
       "      <td>19.893562</td>\n",
       "      <td>NaN</td>\n",
       "      <td>18.622999</td>\n",
       "      <td>0.018</td>\n",
       "      <td>17.398001</td>\n",
       "      <td>0.005</td>\n",
       "      <td>16.882999</td>\n",
       "      <td>0.005</td>\n",
       "      <td>16.702999</td>\n",
       "      <td>0.005</td>\n",
       "      <td>16.627001</td>\n",
       "      <td>0.009</td>\n",
       "    </tr>\n",
       "    <tr>\n",
       "      <th>1</th>\n",
       "      <td>223.696325</td>\n",
       "      <td>19.953839</td>\n",
       "      <td>NaN</td>\n",
       "      <td>22.451000</td>\n",
       "      <td>0.349</td>\n",
       "      <td>22.202999</td>\n",
       "      <td>0.107</td>\n",
       "      <td>21.059999</td>\n",
       "      <td>0.059</td>\n",
       "      <td>20.886999</td>\n",
       "      <td>0.073</td>\n",
       "      <td>20.875000</td>\n",
       "      <td>0.293</td>\n",
       "    </tr>\n",
       "    <tr>\n",
       "      <th>2</th>\n",
       "      <td>223.696387</td>\n",
       "      <td>19.923147</td>\n",
       "      <td>NaN</td>\n",
       "      <td>26.298000</td>\n",
       "      <td>0.555</td>\n",
       "      <td>23.889000</td>\n",
       "      <td>0.477</td>\n",
       "      <td>22.216999</td>\n",
       "      <td>0.178</td>\n",
       "      <td>20.796000</td>\n",
       "      <td>0.074</td>\n",
       "      <td>20.089001</td>\n",
       "      <td>0.163</td>\n",
       "    </tr>\n",
       "    <tr>\n",
       "      <th>3</th>\n",
       "      <td>223.696447</td>\n",
       "      <td>19.871079</td>\n",
       "      <td>NaN</td>\n",
       "      <td>25.752001</td>\n",
       "      <td>0.595</td>\n",
       "      <td>23.289000</td>\n",
       "      <td>0.206</td>\n",
       "      <td>21.912001</td>\n",
       "      <td>0.093</td>\n",
       "      <td>21.243000</td>\n",
       "      <td>0.073</td>\n",
       "      <td>20.868999</td>\n",
       "      <td>0.217</td>\n",
       "    </tr>\n",
       "    <tr>\n",
       "      <th>4</th>\n",
       "      <td>223.696461</td>\n",
       "      <td>19.839687</td>\n",
       "      <td>NaN</td>\n",
       "      <td>25.094999</td>\n",
       "      <td>1.405</td>\n",
       "      <td>23.549999</td>\n",
       "      <td>0.402</td>\n",
       "      <td>22.539000</td>\n",
       "      <td>0.258</td>\n",
       "      <td>21.563999</td>\n",
       "      <td>0.157</td>\n",
       "      <td>21.652000</td>\n",
       "      <td>0.660</td>\n",
       "    </tr>\n",
       "  </tbody>\n",
       "</table>\n",
       "</div>"
      ],
      "text/plain": [
       "           RA        DEC  Redshift       umag  e_umag       gmag  e_gmag  \\\n",
       "0  223.696315  19.893562       NaN  18.622999   0.018  17.398001   0.005   \n",
       "1  223.696325  19.953839       NaN  22.451000   0.349  22.202999   0.107   \n",
       "2  223.696387  19.923147       NaN  26.298000   0.555  23.889000   0.477   \n",
       "3  223.696447  19.871079       NaN  25.752001   0.595  23.289000   0.206   \n",
       "4  223.696461  19.839687       NaN  25.094999   1.405  23.549999   0.402   \n",
       "\n",
       "        rmag  e_rmag       imag  e_imag       zmag  e_zmag  \n",
       "0  16.882999   0.005  16.702999   0.005  16.627001   0.009  \n",
       "1  21.059999   0.059  20.886999   0.073  20.875000   0.293  \n",
       "2  22.216999   0.178  20.796000   0.074  20.089001   0.163  \n",
       "3  21.912001   0.093  21.243000   0.073  20.868999   0.217  \n",
       "4  22.539000   0.258  21.563999   0.157  21.652000   0.660  "
      ]
     },
     "execution_count": 21,
     "metadata": {},
     "output_type": "execute_result"
    }
   ],
   "source": [
    "sdss8.head()"
   ]
  },
  {
   "cell_type": "code",
   "execution_count": 22,
   "id": "0e85580d",
   "metadata": {},
   "outputs": [],
   "source": [
    "from math import radians, sin, cos, sqrt, atan2\n",
    "\n",
    "def haversine(lat1, lon1, lat2, lon2):\n",
    "    # Convierte las coordenadas de grados a radianes\n",
    "    lat1, lon1, lat2, lon2 = map(radians, [lat1, lon1, lat2, lon2])\n",
    "\n",
    "    # Distancias en radianes\n",
    "    dlat = lat2 - lat1\n",
    "    dlon = lon2 - lon1\n",
    "\n",
    "    # Fórmula de Haversine\n",
    "    a = sin(dlat/2)**2 + cos(lat1) * cos(lat2) * sin(dlon/2)**2\n",
    "    c = 2 * atan2(sqrt(a), sqrt(1-a))\n",
    "    distancia = 6371 * c  # Radio de la Tierra en kilómetros\n",
    "    return distancia"
   ]
  },
  {
   "cell_type": "code",
   "execution_count": 23,
   "id": "5d2f1f5d",
   "metadata": {},
   "outputs": [],
   "source": [
    "galaxias_unicas = pd.DataFrame(columns=['RA', 'DEC', 'Redshift','umag', 'e_umag', 'gmag', 'e_gmag', 'rmag', 'e_rmag', 'imag', 'e_imag', 'zmag', 'e_zmag'])\n",
    "galaxias_unicasprom = pd.DataFrame(columns=['RA', 'DEC', 'Redshift','umag1', 'e_umag1', 'gmag1', 'e_gmag1', 'rmag1', 'e_rmag1', 'imag1', 'e_imag1', 'zmag1', 'e_zmag1','umag2', 'e_umag2', 'gmag2', 'e_gmag2', 'rmag2', 'e_rmag2', 'imag2', 'e_imag2', 'zmag2', 'e_zmag2','umag', 'e_umag', 'gmag', 'e_gmag', 'rmag', 'e_rmag', 'imag', 'e_imag', 'zmag', 'e_zmag','Suma_Pesosu','Suma_Pesosg','Suma_Pesosr','Suma_Pesosi','Suma_Pesosz'])\n",
    "\n",
    "for index1, row1 in tabla1.iterrows():\n",
    "    for index2, row2 in tabla2.iterrows():\n",
    "        distancia = haversine(row1['RA'], row1['DEC'], row2['RA'], row2['DEC'])\n",
    "        \n",
    "        # radio de búsqueda adecuado en kilómetros\n",
    "        radio_busqueda = 94  # 0.01 grados (~1 km) como radio de búsqueda\n",
    "        \n",
    "        if distancia <= radio_busqueda:\n",
    "            # Combina la información de las galaxias si están dentro del radio de búsqueda\n",
    "            galaxias_unicas = galaxias_unicas.append({'RA': row1['RA'], 'DEC': row1['DEC'], 'Redshift': row1['Redshift'],'umag':row1['umag'], 'e_umag':row1['e_umag'], 'gmag':row1['gmag'], 'e_gmag':row1['e_gmag'], 'rmag':row1['rmag'], 'e_rmag':row1['e_rmag'], 'imag':row1['imag'], 'e_imag':row1['e_imag'], 'zmag':row1['zmag'], 'e_zmag':row1['e_zmag']}, ignore_index=True)\n",
    "            galaxias_unicasprom = galaxias_unicasprom.append({'RA': (row1['RA']+row2['RA'])/2, 'DEC': (row1['DEC']+row2['DEC'])/2, 'Redshift': (row1['Redshift']+row2['Redshift'])/2,'umag1':row1['umag'], 'e_umag1':row1['e_umag'], 'gmag1':row1['gmag'], 'e_gmag1':row1['e_gmag'], 'rmag1':row1['rmag'], 'e_rmag1':row1['e_rmag'], 'imag1':row1['imag'], 'e_imag1':row1['e_imag'], 'zmag1':row1['zmag'], 'e_zmag1':row1['e_zmag'],'umag2':row2['umag'], 'e_umag2':row2['e_umag'],'rmag2':row2['rmag'], 'e_rmag2':row2['e_rmag'], 'imag2':row2['imag'], 'e_imag2':row2['e_imag'], 'zmag2':row2['zmag'], 'e_zmag2':row2['e_zmag']}, ignore_index=True)"
   ]
  },
  {
   "cell_type": "code",
   "execution_count": 24,
   "id": "233be91d",
   "metadata": {},
   "outputs": [],
   "source": [
    "galaxias_unicasprom['umag'] = (galaxias_unicasprom['umag1'] / galaxias_unicasprom['e_umag1']**2 + galaxias_unicasprom['umag2'] / galaxias_unicasprom['e_umag2']**2) / (1 / galaxias_unicasprom['e_umag1']**2 + 1 / galaxias_unicasprom['e_umag2']**2)\n",
    "\n",
    "galaxias_unicasprom['gmag'] = (galaxias_unicasprom['gmag1'] / galaxias_unicasprom['e_gmag1']**2 + galaxias_unicasprom['gmag2'] / galaxias_unicasprom['e_gmag2']**2) / (1 / galaxias_unicasprom['e_gmag1']**2 + 1 / galaxias_unicasprom['e_gmag2']**2)\n",
    "\n",
    "galaxias_unicasprom['rmag'] = (galaxias_unicasprom['rmag1'] / galaxias_unicasprom['e_rmag1']**2 + galaxias_unicasprom['rmag2'] / galaxias_unicasprom['e_rmag2']**2) / (1 / galaxias_unicasprom['e_rmag1']**2 + 1 / galaxias_unicasprom['e_rmag2']**2)\n",
    "\n",
    "galaxias_unicasprom['imag'] = (galaxias_unicasprom['imag1'] / galaxias_unicasprom['e_imag1']**2 + galaxias_unicasprom['imag2'] / galaxias_unicasprom['e_imag2']**2) / (1 / galaxias_unicasprom['e_imag1']**2 + 1 / galaxias_unicasprom['e_imag2']**2)\n",
    "\n",
    "galaxias_unicasprom['zmag'] = (galaxias_unicasprom['zmag1'] / galaxias_unicasprom['e_zmag1']**2 + galaxias_unicasprom['zmag2'] / galaxias_unicasprom['e_zmag2']**2) / (1 / galaxias_unicasprom['e_zmag1']**2 + 1 / galaxias_unicasprom['e_zmag2']**2)\n",
    "\n",
    "\n",
    "galaxias_unicasprom['Suma_Pesosu'] = 1 / galaxias_unicasprom['e_umag1']**2 + 1 / galaxias_unicasprom['e_umag2']**2\n",
    "\n",
    "galaxias_unicasprom['Suma_Pesosg'] = 1 / galaxias_unicasprom['e_gmag1']**2 + 1 / galaxias_unicasprom['e_gmag2']**2\n",
    "\n",
    "galaxias_unicasprom['Suma_Pesosr'] = 1 / galaxias_unicasprom['e_rmag1']**2 + 1 / galaxias_unicasprom['e_rmag2']**2\n",
    "\n",
    "galaxias_unicasprom['Suma_Pesosi'] = 1 / galaxias_unicasprom['e_imag1']**2 + 1 / galaxias_unicasprom['e_imag2']**2\n",
    "\n",
    "galaxias_unicasprom['Suma_Pesosz'] = 1 / galaxias_unicasprom['e_zmag1']**2 + 1 / galaxias_unicasprom['e_zmag2']**2\n",
    "\n",
    "\n",
    "galaxias_unicasprom.drop(['umag1', 'e_umag1', 'umag2', 'e_umag2','Suma_Pesosu'], axis=1, inplace=True)\n",
    "galaxias_unicasprom.drop(['gmag1', 'e_gmag1', 'gmag2', 'e_gmag2','Suma_Pesosg'], axis=1, inplace=True)\n",
    "galaxias_unicasprom.drop(['rmag1', 'e_rmag1', 'rmag2', 'e_rmag2','Suma_Pesosr'], axis=1, inplace=True)\n",
    "galaxias_unicasprom.drop(['imag1', 'e_imag1', 'imag2', 'e_imag2','Suma_Pesosi'], axis=1, inplace=True)\n",
    "galaxias_unicasprom.drop(['zmag1', 'e_zmag1', 'zmag2', 'e_zmag2','Suma_Pesosz'], axis=1, inplace=True)"
   ]
  },
  {
   "cell_type": "code",
   "execution_count": 25,
   "id": "d838e285",
   "metadata": {},
   "outputs": [],
   "source": [
    "galaxias_unicas1 = pd.DataFrame(columns=['RA', 'DEC', 'Redshift'])\n",
    "galaxias_unicasprom1 = pd.DataFrame(columns=['RA', 'DEC', 'Redshift'])\n",
    "\n",
    "for index1, row1 in tabla1.iterrows():\n",
    "    for index2, row2 in galex.iterrows():\n",
    "        distancia1 = haversine(row1['RA'], row1['DEC'], row2['RA'], row2['DEC'])\n",
    "        \n",
    "        # radio de búsqueda adecuado en kilómetros\n",
    "        radio_busqueda1 = 20\n",
    "        if distancia1 <= radio_busqueda1:\n",
    "            # Combina la información de las galaxias si están dentro del radio de búsqueda\n",
    "            galaxias_unicas1 = galaxias_unicas.append({'RA': row1['RA'], 'DEC': row1['DEC'], 'Redshift': row1['Redshift']}, ignore_index=True)\n",
    "            galaxias_unicasprom1 = galaxias_unicasprom1.append({'RA': (row1['RA']+row2['RA'])/2, 'DEC': (row1['DEC']+row2['DEC'])/2, 'Redshift': (row1['Redshift']+row2['Redshift'])/2}, ignore_index=True)\n",
    "        else:\n",
    "        \tgalaxias_unicasprom1 = galaxias_unicas.append({'RA': row1['RA'], 'DEC': row1['DEC'], 'Redshift': row1['Redshift']}, ignore_index=True)"
   ]
  },
  {
   "cell_type": "code",
   "execution_count": 26,
   "id": "1d37cf13",
   "metadata": {},
   "outputs": [],
   "source": [
    "gredd = galex[\"Redshift\"].dropna()\n",
    "rredd = df[\"Redshift\"].dropna()"
   ]
  },
  {
   "cell_type": "code",
   "execution_count": 27,
   "id": "50b8c38d",
   "metadata": {},
   "outputs": [],
   "source": [
    "# Concatenar los DataFrames y eliminar duplicados\n",
    "concatdf = pd.concat([df, gama]).drop_duplicates().reset_index(drop=True)\n",
    "cv = concatdf['Velocity']\n",
    "\n",
    "# Filtrar los valores de velocidad\n",
    "vel = concatdf['Velocity'] < 45000\n",
    "\n",
    "# Aplicar el primer filtro\n",
    "concatt = concatdf[vel]\n",
    "\n",
    "# Asegurarse de que el índice se restablezca para el segundo filtro\n",
    "concatt_reset = concatt.reset_index(drop=True)\n",
    "\n",
    "# Aplicar el segundo filtro con el índice restablecido\n",
    "vel2 = concatt_reset['Velocity'] >= 33000\n",
    "concattt = concatt_reset[vel2].reset_index(drop=True)\n",
    "\n",
    "\n",
    "# Extraer la columna de velocidad\n",
    "concatvel = concattt['Velocity']"
   ]
  },
  {
   "cell_type": "code",
   "execution_count": 28,
   "id": "5fa31159",
   "metadata": {
    "scrolled": true
   },
   "outputs": [
    {
     "data": {
      "image/png": "[encoded data removed]",
      "text/plain": [
       "<Figure size 432x288 with 1 Axes>"
      ]
     },
     "metadata": {
      "needs_background": "light"
     },
     "output_type": "display_data"
    }
   ],
   "source": [
    "plt.ticklabel_format(style='plain')\n",
    "plt.hist(concatvel,bins=28, color='red', alpha=0.7)\n",
    "plt.grid(axis='y', alpha=0.75)\n",
    "plt.title('Histograma de Velocidades en Abell 1882')\n",
    "plt.xlabel('Velocidad (km/s)')\n",
    "plt.ylabel('Número de Galaxias')\n",
    "plt.savefig('hvelf.png')"
   ]
  },
  {
   "cell_type": "code",
   "execution_count": 29,
   "id": "bc55c2b1",
   "metadata": {},
   "outputs": [],
   "source": [
    "ab_ra = 213.809167* 2*np.pi/360\n",
    "ab_dec = -0.501111 * 2*np.pi/360    \n",
    "ab_position = [ab_ra, ab_dec]"
   ]
  },
  {
   "cell_type": "code",
   "execution_count": 30,
   "id": "19be5882",
   "metadata": {},
   "outputs": [],
   "source": [
    "def dms2dd(dd):\n",
    "    negative = dd < 0\n",
    "    dd = abs(dd)\n",
    "    minutes,seconds = divmod(dd*3600,60)\n",
    "    degrees,minutes = divmod(minutes,60)\n",
    "    if negative:\n",
    "        if degrees > 0:\n",
    "            degrees = -degrees\n",
    "        elif minutes > 0:\n",
    "            minutes = -minutes\n",
    "        else:\n",
    "            seconds = -seconds\n",
    "    return (degrees,minutes,seconds)"
   ]
  },
  {
   "cell_type": "code",
   "execution_count": 31,
   "id": "894fd5f5",
   "metadata": {},
   "outputs": [],
   "source": [
    "decc = galaxias_unicasprom['DEC'].apply(dms2dd)\n",
    "raa = galaxias_unicasprom['RA'].apply(dms2dd)"
   ]
  },
  {
   "cell_type": "code",
   "execution_count": 32,
   "id": "0d3cb08f",
   "metadata": {},
   "outputs": [],
   "source": [
    "ra = galaxias_unicasprom['RA'] * 2*np.pi/360\n",
    "rra = galaxias_unicasprom['RA']\n",
    "dec = galaxias_unicasprom['DEC'] * 2*np.pi/360\n",
    "ddec = galaxias_unicasprom['DEC']\n",
    "redshift = galaxias_unicasprom['Redshift']"
   ]
  },
  {
   "cell_type": "code",
   "execution_count": 33,
   "id": "a8b95241",
   "metadata": {},
   "outputs": [],
   "source": [
    "Distancia = (ab_ra-ra)*(2*np.arcsin((np.sin((ab_dec-dec)/2)**2+np.cos(ab_dec)*np.cos(dec)*np.sin((ab_ra-ra)/2)**2)**0.5))*360*60/(2*np.pi)/np.abs(ab_ra-ra)\n",
    "\n",
    "galaxias_unicasprom = galaxias_unicasprom.assign(Distancia= Distancia)"
   ]
  },
  {
   "cell_type": "code",
   "execution_count": 34,
   "id": "2a3e1db8",
   "metadata": {},
   "outputs": [],
   "source": [
    "table= pd.concat([result,gama,galex,df], join=\"inner\")"
   ]
  },
  {
   "cell_type": "code",
   "execution_count": 35,
   "id": "29062ce6",
   "metadata": {},
   "outputs": [
    {
     "data": {
      "text/html": [
       "<div>\n",
       "<style scoped>\n",
       "    .dataframe tbody tr th:only-of-type {\n",
       "        vertical-align: middle;\n",
       "    }\n",
       "\n",
       "    .dataframe tbody tr th {\n",
       "        vertical-align: top;\n",
       "    }\n",
       "\n",
       "    .dataframe thead th {\n",
       "        text-align: right;\n",
       "    }\n",
       "</style>\n",
       "<table border=\"1\" class=\"dataframe\">\n",
       "  <thead>\n",
       "    <tr style=\"text-align: right;\">\n",
       "      <th></th>\n",
       "      <th>RA</th>\n",
       "      <th>DEC</th>\n",
       "      <th>Redshift</th>\n",
       "    </tr>\n",
       "  </thead>\n",
       "  <tbody>\n",
       "    <tr>\n",
       "      <th>0</th>\n",
       "      <td>213.80917</td>\n",
       "      <td>-0.50111</td>\n",
       "      <td>0.136700</td>\n",
       "    </tr>\n",
       "    <tr>\n",
       "      <th>6</th>\n",
       "      <td>213.81153</td>\n",
       "      <td>-0.49305</td>\n",
       "      <td>0.145314</td>\n",
       "    </tr>\n",
       "    <tr>\n",
       "      <th>13</th>\n",
       "      <td>213.80209</td>\n",
       "      <td>-0.51382</td>\n",
       "      <td>0.141000</td>\n",
       "    </tr>\n",
       "    <tr>\n",
       "      <th>16</th>\n",
       "      <td>213.81811</td>\n",
       "      <td>-0.48521</td>\n",
       "      <td>0.138000</td>\n",
       "    </tr>\n",
       "    <tr>\n",
       "      <th>24</th>\n",
       "      <td>213.82917</td>\n",
       "      <td>-0.50611</td>\n",
       "      <td>0.135000</td>\n",
       "    </tr>\n",
       "    <tr>\n",
       "      <th>...</th>\n",
       "      <td>...</td>\n",
       "      <td>...</td>\n",
       "      <td>...</td>\n",
       "    </tr>\n",
       "    <tr>\n",
       "      <th>10270</th>\n",
       "      <td>213.94710</td>\n",
       "      <td>-0.98006</td>\n",
       "      <td>0.152682</td>\n",
       "    </tr>\n",
       "    <tr>\n",
       "      <th>10301</th>\n",
       "      <td>214.02611</td>\n",
       "      <td>-0.95104</td>\n",
       "      <td>0.138000</td>\n",
       "    </tr>\n",
       "    <tr>\n",
       "      <th>10305</th>\n",
       "      <td>213.95360</td>\n",
       "      <td>-0.97937</td>\n",
       "      <td>1.007610</td>\n",
       "    </tr>\n",
       "    <tr>\n",
       "      <th>10310</th>\n",
       "      <td>214.07670</td>\n",
       "      <td>-0.92315</td>\n",
       "      <td>0.681938</td>\n",
       "    </tr>\n",
       "    <tr>\n",
       "      <th>10312</th>\n",
       "      <td>214.07678</td>\n",
       "      <td>-0.92314</td>\n",
       "      <td>0.682120</td>\n",
       "    </tr>\n",
       "  </tbody>\n",
       "</table>\n",
       "<p>1085 rows × 3 columns</p>\n",
       "</div>"
      ],
      "text/plain": [
       "              RA      DEC  Redshift\n",
       "0      213.80917 -0.50111  0.136700\n",
       "6      213.81153 -0.49305  0.145314\n",
       "13     213.80209 -0.51382  0.141000\n",
       "16     213.81811 -0.48521  0.138000\n",
       "24     213.82917 -0.50611  0.135000\n",
       "...          ...      ...       ...\n",
       "10270  213.94710 -0.98006  0.152682\n",
       "10301  214.02611 -0.95104  0.138000\n",
       "10305  213.95360 -0.97937  1.007610\n",
       "10310  214.07670 -0.92315  0.681938\n",
       "10312  214.07678 -0.92314  0.682120\n",
       "\n",
       "[1085 rows x 3 columns]"
      ]
     },
     "execution_count": 35,
     "metadata": {},
     "output_type": "execute_result"
    }
   ],
   "source": [
    "df"
   ]
  },
  {
   "cell_type": "code",
   "execution_count": 36,
   "id": "69a90925",
   "metadata": {},
   "outputs": [],
   "source": [
    "table = table.drop_duplicates().reset_index(drop=True)"
   ]
  },
  {
   "cell_type": "code",
   "execution_count": 37,
   "id": "8643726d",
   "metadata": {},
   "outputs": [],
   "source": [
    "min_ra= 212\n",
    "max_ra = 216\n",
    "min_dec= -1.2\n",
    "max_dec = 0.5\n",
    "tbfiltrado = table.query('RA >= @min_ra & RA <= @max_ra & DEC >= @min_dec & DEC <= @max_dec').drop_duplicates().reset_index(drop=True)"
   ]
  },
  {
   "cell_type": "code",
   "execution_count": 38,
   "id": "bd778e6b",
   "metadata": {},
   "outputs": [],
   "source": [
    "tb = tbfiltrado[['RA','DEC']]"
   ]
  },
  {
   "cell_type": "code",
   "execution_count": 39,
   "id": "0ccb43ab",
   "metadata": {},
   "outputs": [],
   "source": [
    "racord = tb['RA']\n",
    "racord=pd.to_numeric(racord, errors='coerce')\n",
    "decord = tb['DEC']\n",
    "decord=pd.to_numeric(decord, errors='coerce')"
   ]
  },
  {
   "cell_type": "code",
   "execution_count": 40,
   "id": "285e9c1b",
   "metadata": {},
   "outputs": [
    {
     "data": {
      "text/plain": [
       "Text(0, 0.5, 'DEC (deg)')"
      ]
     },
     "execution_count": 40,
     "metadata": {},
     "output_type": "execute_result"
    },
    {
     "data": {
      "image/png": "[encoded data removed]",
      "text/plain": [
       "<Figure size 504x504 with 1 Axes>"
      ]
     },
     "metadata": {
      "needs_background": "light"
     },
     "output_type": "display_data"
    }
   ],
   "source": [
    "fig = plt.figure(figsize=(7,7))\n",
    "plt.grid(True)\n",
    "plt.title('Posiciones de las galaxias en Abell 1882')\n",
    "plt.scatter(racord,decord,s=15)\n",
    "plt.xlabel('RA (deg)')\n",
    "plt.ylabel('DEC (deg)')"
   ]
  },
  {
   "cell_type": "code",
   "execution_count": 41,
   "id": "b25e3354",
   "metadata": {},
   "outputs": [
    {
     "data": {
      "text/plain": [
       "<matplotlib.colorbar.Colorbar at 0x24126f5dd00>"
      ]
     },
     "execution_count": 41,
     "metadata": {},
     "output_type": "execute_result"
    },
    {
     "data": {
      "image/png": "[encoded data removed]",
      "text/plain": [
       "<Figure size 640x480 with 2 Axes>"
      ]
     },
     "metadata": {},
     "output_type": "display_data"
    }
   ],
   "source": [
    "#norm = mpl.colors.Normalize()\n",
    "with plt.style.context('default'):\n",
    "    plt.hist2d(racord.dropna().values, decord.dropna().values,bins=100,\n",
    "               cmap='gray_r')\n",
    "plt.title('Densidad de distribución de galaxias')\n",
    "plt.ylim(-1.2,0.2)\n",
    "plt.xlabel('RA (deg)')\n",
    "plt.ylabel('DEC (deg)')\n",
    "plt.colorbar(label='Número de Galaxias')"
   ]
  },
  {
   "cell_type": "code",
   "execution_count": 42,
   "id": "c95ec7df",
   "metadata": {},
   "outputs": [],
   "source": [
    "min_red= 0\n",
    "max_red = 0.5\n",
    "tbfilred = tbfiltrado[tbfiltrado['Redshift'].between(min_red, max_red)].dropna().drop_duplicates().reset_index(drop=True)"
   ]
  },
  {
   "cell_type": "code",
   "execution_count": 43,
   "id": "38dbd743",
   "metadata": {},
   "outputs": [],
   "source": [
    "tbfilred=pd.DataFrame(tbfilred)"
   ]
  },
  {
   "cell_type": "code",
   "execution_count": 44,
   "id": "49a0e5ee",
   "metadata": {},
   "outputs": [],
   "source": [
    "redshift = tbfilred['Redshift']\n",
    "redshift=pd.to_numeric(redshift, errors='coerce')\n",
    "raf = tbfilred['RA']\n",
    "raf=pd.to_numeric(raf, errors='coerce')\n",
    "decf = tbfilred['DEC']\n",
    "decf=pd.to_numeric(decf, errors='coerce')"
   ]
  },
  {
   "cell_type": "code",
   "execution_count": 45,
   "id": "8a8216e2",
   "metadata": {},
   "outputs": [
    {
     "data": {
      "text/plain": [
       "Text(0, 0.5, 'Número de Galaxias')"
      ]
     },
     "execution_count": 45,
     "metadata": {},
     "output_type": "execute_result"
    },
    {
     "data": {
      "image/png": "[encoded data removed]",
      "text/plain": [
       "<Figure size 432x288 with 1 Axes>"
      ]
     },
     "metadata": {
      "needs_background": "light"
     },
     "output_type": "display_data"
    }
   ],
   "source": [
    "plt.ticklabel_format(style='plain')\n",
    "plt.hist(redshift,bins=30, color='red', alpha=0.7)\n",
    "plt.grid(axis='y', alpha=0.75)\n",
    "plt.title('Histograma de Redshift')\n",
    "plt.xlabel('Redshift')\n",
    "plt.ylabel('Número de Galaxias')"
   ]
  },
  {
   "cell_type": "code",
   "execution_count": 46,
   "id": "5fb7f601",
   "metadata": {},
   "outputs": [],
   "source": [
    "mired= 0.11\n",
    "mared = 0.15\n",
    "tbfil = tbfilred[tbfilred['Redshift'].between(mired, mared)].dropna().drop_duplicates().reset_index(drop=True)"
   ]
  },
  {
   "cell_type": "code",
   "execution_count": 47,
   "id": "dbb4de30",
   "metadata": {},
   "outputs": [],
   "source": [
    "redsft = tbfil['Redshift']\n",
    "redsft=pd.to_numeric(redsft, errors='coerce')\n",
    "raff = tbfil['RA']\n",
    "raff=pd.to_numeric(raff, errors='coerce')\n",
    "decff = tbfil['DEC']\n",
    "decff=pd.to_numeric(decff, errors='coerce')"
   ]
  },
  {
   "cell_type": "code",
   "execution_count": 48,
   "id": "8e81e9a8",
   "metadata": {},
   "outputs": [
    {
     "data": {
      "text/plain": [
       "Text(0, 0.5, 'Número de Galaxias')"
      ]
     },
     "execution_count": 48,
     "metadata": {},
     "output_type": "execute_result"
    },
    {
     "data": {
      "image/png": "[encoded data removed]",
      "text/plain": [
       "<Figure size 432x288 with 1 Axes>"
      ]
     },
     "metadata": {
      "needs_background": "light"
     },
     "output_type": "display_data"
    }
   ],
   "source": [
    "plt.ticklabel_format(style='plain')\n",
    "plt.hist(redsft,bins=30,color='red', alpha=0.7)\n",
    "plt.grid(axis='y', alpha=0.75)\n",
    "plt.title('Histograma de Redshift Abell 1882 (0.133 ≤ z ≤ 0.144)')\n",
    "plt.xlabel('Redshift')\n",
    "plt.ylabel('Número de Galaxias')"
   ]
  },
  {
   "cell_type": "code",
   "execution_count": 49,
   "id": "a0bc7c63",
   "metadata": {},
   "outputs": [],
   "source": [
    "# Se definió el número de bins a utilizar en el histograma de velocidades\n",
    "bins = 30\n",
    "\n",
    "# Valores máximo y mínimo de las velocidades\n",
    "minimo = min(redsft)\n",
    "maximo = max(redsft)\n",
    "\n",
    "# Cálculo del ancho de cada bin\n",
    "ancho = (maximo-minimo)/bins\n",
    "\n",
    "# Función que retorna el número de galaxias cuyas velocidades están en el bin definido entre los valores de velocidades minimun y maximum\n",
    "def histograma_intervalo(minimum,maximum):\n",
    "\tbin_rsft = redsft.loc[lambda x : (x >= minimum) & (x <= maximum)]\n",
    "\treturn len(bin_rsft)\n",
    "\n",
    "# Función que devuelve la data de los rangos de velocidades de cada bin y los recuentos respectivos de cada uno en un array\n",
    "def histograma(redsft):\n",
    "\tx = []\n",
    "\ty = []\n",
    "\n",
    "\tfor i in range(bins):\n",
    "\t\tx.append(minimo+i*ancho+ancho/2)\n",
    "\t\tret_aux = histograma_intervalo(minimo+i*ancho,minimo+(i+1)*ancho)\n",
    "\t\ty.append(ret_aux)\n",
    "        \n",
    "\tx = np.array(x)\n",
    "\ty = np.array(y)\n",
    "\treturn np.array([x,y])"
   ]
  },
  {
   "cell_type": "code",
   "execution_count": 50,
   "id": "5ba1823f",
   "metadata": {},
   "outputs": [],
   "source": [
    "histogram_zsp = histograma(redsft)"
   ]
  },
  {
   "cell_type": "code",
   "execution_count": 51,
   "id": "6e6afc87",
   "metadata": {},
   "outputs": [],
   "source": [
    "def gauss(x, A, x0, sigma):\n",
    "    return A * np.exp(-(x - x0) ** 2 / (2 * sigma ** 2))"
   ]
  },
  {
   "cell_type": "code",
   "execution_count": 52,
   "id": "19f1803d",
   "metadata": {},
   "outputs": [],
   "source": [
    "histogram_zsp1 = np.copy(histogram_zsp)\n",
    "histogram_zsp2 = np.copy(histogram_zsp)"
   ]
  },
  {
   "cell_type": "code",
   "execution_count": 53,
   "id": "459182e8",
   "metadata": {},
   "outputs": [],
   "source": [
    "def find_position_by_x(arr, x0):\n",
    "    for i in range(len(arr)):\n",
    "        if arr[i] > x0:\n",
    "           \treturn i-1\n",
    "n = find_position_by_x(histogram_zsp[0],0.134)"
   ]
  },
  {
   "cell_type": "code",
   "execution_count": 54,
   "id": "831f91a0",
   "metadata": {},
   "outputs": [],
   "source": [
    "histogram_zsp1[1][16:]=0\n",
    "histogram_zsp2[1][:16]=0"
   ]
  },
  {
   "cell_type": "code",
   "execution_count": 55,
   "id": "df7aa90d",
   "metadata": {},
   "outputs": [],
   "source": [
    "parameters1, covariance1 = curve_fit(gauss, histogram_zsp1[0], histogram_zsp1[1],p0=[30,0.125,0.003])\n",
    "parameters2, covariance2 = curve_fit(gauss, histogram_zsp2[0], histogram_zsp2[1],p0=[110,0.138,0.002])"
   ]
  },
  {
   "cell_type": "code",
   "execution_count": 56,
   "id": "f14c579f",
   "metadata": {},
   "outputs": [],
   "source": [
    "medi1 = parameters1[1]\n",
    "sigm1 = parameters1[2]\n",
    "medi2 = parameters2[1]\n",
    "sigm2 = parameters2[2]"
   ]
  },
  {
   "cell_type": "code",
   "execution_count": 57,
   "id": "58afb8f1",
   "metadata": {},
   "outputs": [],
   "source": [
    "min_lim1 = medi1-3*sigm1\n",
    "max_lim1 = medi1+3*sigm1\n",
    "min_lim2 = medi2-3*sigm2\n",
    "max_lim2 = medi2+3*sigm2"
   ]
  },
  {
   "cell_type": "code",
   "execution_count": 58,
   "id": "12f27467",
   "metadata": {},
   "outputs": [],
   "source": [
    "line_values1=[min_lim1,medi1,max_lim1]\n",
    "line_values2=[min_lim2,medi2,max_lim2]"
   ]
  },
  {
   "cell_type": "code",
   "execution_count": 59,
   "id": "30905751",
   "metadata": {},
   "outputs": [
    {
     "data": {
      "text/plain": [
       "<matplotlib.legend.Legend at 0x241270af0d0>"
      ]
     },
     "execution_count": 59,
     "metadata": {},
     "output_type": "execute_result"
    },
    {
     "data": {
      "image/png": "[encoded data removed]",
      "text/plain": [
       "<Figure size 432x288 with 1 Axes>"
      ]
     },
     "metadata": {
      "needs_background": "light"
     },
     "output_type": "display_data"
    }
   ],
   "source": [
    "x = np.linspace(minimo,maximo,200)\n",
    "y1 = gauss(x,*parameters1)\n",
    "y2 = gauss(x,*parameters2)\n",
    "\n",
    "plt.ticklabel_format(style='plain')\n",
    "plt.hist(redsft,bins=30, color='red', alpha=0.7)\n",
    "plt.grid(axis='y', alpha=0.75)\n",
    "plt.title('Histograma de Redshift en Abell 1882')\n",
    "plt.xlabel('Redshift')\n",
    "plt.ylabel('Número de Galaxias')\n",
    "plt.plot(x, y1, '-', label='Fit Gausiano 1')\n",
    "plt.plot(x, y2, '-', label='Fit Gausiano 2')\n",
    "plt.vlines(line_values1[0],0,gauss(line_values1[0],*parameters1), linestyle='--', color='yellow')\n",
    "plt.vlines(line_values1[1],0,gauss(line_values1[1],*parameters1), linestyle='--', color='cyan',label='Media: x1 = 0.12534')\n",
    "plt.vlines(line_values1[2],0,gauss(line_values1[2],*parameters1), linestyle='--', color='yellow')\n",
    "plt.vlines(line_values2[0],0,gauss(line_values2[0],*parameters2), linestyle='--', color='green')\n",
    "plt.vlines(line_values2[1],0,gauss(line_values2[1],*parameters2), linestyle='--', color='pink',label='Media: x2 = 0.13911')\n",
    "plt.vlines(line_values2[2],0,gauss(line_values2[2],*parameters2), linestyle='--', color='green')\n",
    "plt.legend()"
   ]
  },
  {
   "cell_type": "code",
   "execution_count": 60,
   "id": "b68fdeb4",
   "metadata": {},
   "outputs": [],
   "source": [
    "tbfilt1 = tbfil['Redshift'] < 0.134\n",
    "tbfil1 = tbfil[tbfilt1]\n",
    "\n",
    "tbfilt2 = tbfil['Redshift'] >= 0.134\n",
    "tbfil2 = tbfil[tbfilt2]"
   ]
  },
  {
   "cell_type": "code",
   "execution_count": 61,
   "id": "e12fbc21",
   "metadata": {},
   "outputs": [],
   "source": [
    "red1 = tbfil1['Redshift']\n",
    "red1 = pd.to_numeric(red1, errors='coerce')\n",
    "ar1 = tbfil1['RA']\n",
    "ar1 = pd.to_numeric(ar1, errors='coerce')\n",
    "decl1 = tbfil1['DEC']\n",
    "decl1=pd.to_numeric(decl1, errors='coerce')\n",
    "\n",
    "red2 = tbfil2['Redshift']\n",
    "red2 = pd.to_numeric(red2, errors='coerce')\n",
    "ar2 = tbfil2['RA']\n",
    "ar2 = pd.to_numeric(ar2, errors='coerce')\n",
    "decl2 = tbfil2['DEC']\n",
    "decl2=pd.to_numeric(decl2, errors='coerce')"
   ]
  },
  {
   "cell_type": "code",
   "execution_count": 62,
   "id": "3eee38b5",
   "metadata": {},
   "outputs": [
    {
     "data": {
      "image/png": "[encoded data removed]",
      "text/plain": [
       "<Figure size 1152x648 with 1 Axes>"
      ]
     },
     "metadata": {
      "needs_background": "light"
     },
     "output_type": "display_data"
    }
   ],
   "source": [
    "from mpl_toolkits import mplot3d\n",
    " \n",
    "fig = plt.figure(figsize = (16, 9))\n",
    "ax = plt.axes(projection =\"3d\")\n",
    "   \n",
    "ax.grid(b = True, color ='grey',linestyle ='-.', linewidth = 0.3, alpha = 0.2) \n",
    "\n",
    "ax.scatter3D(ar1, decl1, red1,  label='z < 0.134')\n",
    "ax.scatter3D(ar2, decl2, red2, label='z ≥ 0.134')\n",
    "\n",
    "plt.title(\"Redshift en Abell 1882\")\n",
    "ax.set_xlabel('RA (deg)', fontweight ='bold') \n",
    "ax.set_ylabel('DEC (deg)', fontweight ='bold') \n",
    "ax.set_zlabel('Redshift', fontweight ='bold')\n",
    "\n",
    "ax.legend(loc=1)\n",
    "plt.show()"
   ]
  }
 ],
 "metadata": {
  "kernelspec": {
   "display_name": "Python 3",
   "language": "python",
   "name": "python3"
  },
  "language_info": {
   "codemirror_mode": {
    "name": "ipython",
    "version": 3
   },
   "file_extension": ".py",
   "mimetype": "text/x-python",
   "name": "python",
   "nbconvert_exporter": "python",
   "pygments_lexer": "ipython3",
   "version": "3.8.8"
  }
 },
 "nbformat": 4,
 "nbformat_minor": 5
}
