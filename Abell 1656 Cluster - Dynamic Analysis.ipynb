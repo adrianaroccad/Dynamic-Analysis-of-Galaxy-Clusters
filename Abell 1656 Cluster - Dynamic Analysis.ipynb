{
 "cells": [
  {
   "cell_type": "markdown",
   "id": "5125969d",
   "metadata": {},
   "source": [
    "# Dinámica del Cluster Coma (Abell 1656)"
   ]
  },
  {
   "cell_type": "markdown",
   "id": "7a3d273f",
   "metadata": {},
   "source": [
    "En primer lugar, se procedió a cargar todas las librerías que se utilizarán en el programa:"
   ]
  },
  {
   "cell_type": "code",
   "execution_count": 99,
   "id": "f8c3f2d0",
   "metadata": {},
   "outputs": [],
   "source": [
    "from astroquery.vizier import Vizier\n",
    "from astroquery.simbad import Simbad\n",
    "from astropy.table import Table, vstack\n",
    "from astropy.io import fits\n",
    "from astropy.coordinates import SkyCoord\n",
    "from astropy import units as u\n",
    "import matplotlib.pyplot as plt\n",
    "import matplotlib as mpl\n",
    "from scipy.optimize import curve_fit\n",
    "import seaborn as sns\n",
    "import numpy as np\n",
    "import pandas as pd"
   ]
  },
  {
   "cell_type": "markdown",
   "id": "e0c51a58",
   "metadata": {},
   "source": [
    "Luego, se cargó el archivo ¨Data Coma Cluster.csv¨ que contiene una tabla con los datos de las Coordenadas Ecuatoriales J2000 (RA y DEC ambas en grados °), las velocidades (km/s) y los valores de redshift del query realizado al catálogo del NED NASA/IPAC Extragalactic Database:"
   ]
  },
  {
   "cell_type": "code",
   "execution_count": 100,
   "id": "cc9d4229",
   "metadata": {},
   "outputs": [
    {
     "name": "stdout",
     "output_type": "stream",
     "text": [
      "                       Object Name         RA       DEC  Velocity  Redshift\n",
      "0          2MASS J12591343+2758329  194.80575  27.97586       NaN       NaN\n",
      "1                         NGC 4874  194.89878  27.95927    7167.0  0.023907\n",
      "2         ABELL 1656:[EDG2007] 083  194.84417  27.91558       NaN       NaN\n",
      "3      COMAi J130018.299+280240.53  195.07625  28.04459       NaN       NaN\n",
      "4                      [ASD2005] 3  194.90800  27.97000       NaN       NaN\n",
      "...                            ...        ...       ...       ...       ...\n",
      "49994    WISEA J125948.39+280816.5  194.95157  28.13771       NaN       NaN\n",
      "49995   SSTSL2 J130017.24+280551.6  195.07184  28.09767       NaN       NaN\n",
      "49996    WISEA J130031.30+275933.4  195.13046  27.99263       NaN       NaN\n",
      "49997   SSTSL2 J125956.42+280807.0  194.98511  28.13528       NaN       NaN\n",
      "49998     ABELL 1656:[EF2011] 4352  195.05542  28.10938       NaN       NaN\n",
      "\n",
      "[49999 rows x 5 columns]\n"
     ]
    }
   ],
   "source": [
    "dataframe = pd.read_csv(r\"C:\\Users\\amrd_\\Downloads\\Data Coma Cluster.csv\")\n",
    "print(dataframe)"
   ]
  },
  {
   "cell_type": "code",
   "execution_count": 101,
   "id": "63dab7af",
   "metadata": {},
   "outputs": [],
   "source": [
    "# Copia del dataframe sin considerar la columna de Object Name\n",
    "df=dataframe[['RA','DEC','Velocity','Redshift']]"
   ]
  },
  {
   "cell_type": "markdown",
   "id": "61d396b4",
   "metadata": {},
   "source": [
    "Del paper consultado, sabemos que las galaxias correspondientes al Cúmulo de Coma tienen velocidades entre los 2 000 km/s y los 10 000 km/s, por lo que se procedió a filtrar el dataframe result de manera que solo trabajemos con las galaxias que cumplan con esa condición:"
   ]
  },
  {
   "cell_type": "code",
   "execution_count": 102,
   "id": "a0df448b",
   "metadata": {},
   "outputs": [],
   "source": [
    "min_velocity_coma = 2000\n",
    "max_velocity_coma = 10000"
   ]
  },
  {
   "cell_type": "code",
   "execution_count": 103,
   "id": "5cd74921",
   "metadata": {},
   "outputs": [],
   "source": [
    "df = df.query('Velocity >= @min_velocity_coma and Velocity <= @max_velocity_coma')"
   ]
  },
  {
   "cell_type": "markdown",
   "id": "0951859a",
   "metadata": {},
   "source": [
    "Se extrajo los datos de la columna velocidades:"
   ]
  },
  {
   "cell_type": "code",
   "execution_count": 104,
   "id": "f768043a",
   "metadata": {},
   "outputs": [
    {
     "data": {
      "text/plain": [
       "264"
      ]
     },
     "execution_count": 104,
     "metadata": {},
     "output_type": "execute_result"
    }
   ],
   "source": [
    "velocities = df['Velocity']\n",
    "len(velocities)"
   ]
  },
  {
   "cell_type": "markdown",
   "id": "081a9bcc",
   "metadata": {},
   "source": [
    "Se realizó el recuento de las galaxias que poseen un mismo valor de velocidades:"
   ]
  },
  {
   "cell_type": "code",
   "execution_count": 105,
   "id": "58a30abd",
   "metadata": {},
   "outputs": [
    {
     "data": {
      "text/html": [
       "<div>\n",
       "<style scoped>\n",
       "    .dataframe tbody tr th:only-of-type {\n",
       "        vertical-align: middle;\n",
       "    }\n",
       "\n",
       "    .dataframe tbody tr th {\n",
       "        vertical-align: top;\n",
       "    }\n",
       "\n",
       "    .dataframe thead th {\n",
       "        text-align: right;\n",
       "    }\n",
       "</style>\n",
       "<table border=\"1\" class=\"dataframe\">\n",
       "  <thead>\n",
       "    <tr style=\"text-align: right;\">\n",
       "      <th></th>\n",
       "      <th>Velocity</th>\n",
       "      <th>Number of Galaxies</th>\n",
       "    </tr>\n",
       "  </thead>\n",
       "  <tbody>\n",
       "    <tr>\n",
       "      <th>0</th>\n",
       "      <td>7195.0</td>\n",
       "      <td>4</td>\n",
       "    </tr>\n",
       "    <tr>\n",
       "      <th>1</th>\n",
       "      <td>6895.0</td>\n",
       "      <td>3</td>\n",
       "    </tr>\n",
       "    <tr>\n",
       "      <th>2</th>\n",
       "      <td>6805.0</td>\n",
       "      <td>3</td>\n",
       "    </tr>\n",
       "    <tr>\n",
       "      <th>3</th>\n",
       "      <td>7105.0</td>\n",
       "      <td>3</td>\n",
       "    </tr>\n",
       "    <tr>\n",
       "      <th>4</th>\n",
       "      <td>6955.0</td>\n",
       "      <td>3</td>\n",
       "    </tr>\n",
       "    <tr>\n",
       "      <th>...</th>\n",
       "      <td>...</td>\n",
       "      <td>...</td>\n",
       "    </tr>\n",
       "    <tr>\n",
       "      <th>239</th>\n",
       "      <td>6929.0</td>\n",
       "      <td>1</td>\n",
       "    </tr>\n",
       "    <tr>\n",
       "      <th>240</th>\n",
       "      <td>6094.0</td>\n",
       "      <td>1</td>\n",
       "    </tr>\n",
       "    <tr>\n",
       "      <th>241</th>\n",
       "      <td>7493.0</td>\n",
       "      <td>1</td>\n",
       "    </tr>\n",
       "    <tr>\n",
       "      <th>242</th>\n",
       "      <td>7135.0</td>\n",
       "      <td>1</td>\n",
       "    </tr>\n",
       "    <tr>\n",
       "      <th>243</th>\n",
       "      <td>5516.0</td>\n",
       "      <td>1</td>\n",
       "    </tr>\n",
       "  </tbody>\n",
       "</table>\n",
       "<p>244 rows × 2 columns</p>\n",
       "</div>"
      ],
      "text/plain": [
       "     Velocity  Number of Galaxies\n",
       "0      7195.0                   4\n",
       "1      6895.0                   3\n",
       "2      6805.0                   3\n",
       "3      7105.0                   3\n",
       "4      6955.0                   3\n",
       "..        ...                 ...\n",
       "239    6929.0                   1\n",
       "240    6094.0                   1\n",
       "241    7493.0                   1\n",
       "242    7135.0                   1\n",
       "243    5516.0                   1\n",
       "\n",
       "[244 rows x 2 columns]"
      ]
     },
     "execution_count": 105,
     "metadata": {},
     "output_type": "execute_result"
    }
   ],
   "source": [
    "velocities_value_counts = pd.DataFrame(velocities.value_counts())\n",
    "velocities_value_counts = velocities_value_counts.reset_index()\n",
    "velocities_value_counts.columns = ['Velocity', 'Number of Galaxies']\n",
    "velocities_value_counts"
   ]
  },
  {
   "cell_type": "markdown",
   "id": "142a8526",
   "metadata": {},
   "source": [
    "En este caso, se accedió a la lista de catálogos del Data Release 16 (DR16) del Sloan Digital Sky Surveys (SDSS):"
   ]
  },
  {
   "cell_type": "code",
   "execution_count": 106,
   "id": "4ee2197c",
   "metadata": {},
   "outputs": [
    {
     "name": "stdout",
     "output_type": "stream",
     "text": [
      "V/154 :  Sloan Digital Sky Surveys (SDSS), Release 16 (DR16) (Ahumada+, 2020)\n",
      "J/ApJ/912/91 :  A value-added catalog for SDSS DR16 quasars at z<0.7 (Toba+, 2021)\n",
      "J/AJ/159/199 :  OCCAM. IV. Open cluster abundances using APOGEE DR16 (Donor+, 2020)\n",
      "J/MNRAS/514/1231 :  SDSS DR16 compact galaxy groups (Zandivarez+, 2022)\n"
     ]
    }
   ],
   "source": [
    "catalog_list_sdss = Vizier.find_catalogs('SDSS DR16')\n",
    "for k, v in catalog_list_sdss.items():\n",
    "    print(k, ': ', v.description)"
   ]
  },
  {
   "cell_type": "markdown",
   "id": "29f25b62",
   "metadata": {},
   "source": [
    "Aquí se procedió a realizar un query al catálogo V/1554 en la región desde el centro del Cúmulo de Coma (Abell 1656) hasta su radio aproximado que es de 30 arcmin:"
   ]
  },
  {
   "cell_type": "code",
   "execution_count": 107,
   "id": "b37d18ca",
   "metadata": {},
   "outputs": [
    {
     "name": "stdout",
     "output_type": "stream",
     "text": [
      "TableList with 1 tables:\n",
      "\t'0:V/154/sdss16' with 28 column(s) and 50 row(s) \n"
     ]
    }
   ],
   "source": [
    "results_test_sdss = Vizier.query_region(\"A1656\", radius=\"0d30m0s\", catalog='V/154')\n",
    "print(results_test_sdss)"
   ]
  },
  {
   "cell_type": "code",
   "execution_count": 108,
   "id": "74ba6de8",
   "metadata": {},
   "outputs": [
    {
     "name": "stdout",
     "output_type": "stream",
     "text": [
      "['objID', 'RA_ICRS', 'DE_ICRS', 'mode', 'class', 'clean', 'e_RA_ICRS', 'e_DE_ICRS', 'umag', 'gmag', 'rmag', 'imag', 'zmag', 'e_umag', 'e_gmag', 'e_rmag', 'e_imag', 'e_zmag', 'zsp', 'e_zsp', 'f_zsp', 'zph', 'e_zph', '__zph_', 'Q', 'SDSS16', 'Sp-ID', '_tab1_130']\n"
     ]
    }
   ],
   "source": [
    "# Nombres de las columnas de la tabla del catálogo\n",
    "print(results_test_sdss[0].colnames)"
   ]
  },
  {
   "cell_type": "markdown",
   "id": "c37221c2",
   "metadata": {},
   "source": [
    "Se definió un filtro para acceder a las columnas que son de interés del query al SDSS DR16, que son los datos de las galaxias (¨class¨ = 3) que corresponden a las Coordenadas Ecuatoriales J2000 (¨RA_ICRS¨ y ¨DE_ICRS¨ ambas en grados °), los redshifts (zsp) y las magnitudes en diferentes filtros (u, g, r, i y z) junto con sus errores respectivos."
   ]
  },
  {
   "cell_type": "code",
   "execution_count": 109,
   "id": "e48040d2",
   "metadata": {},
   "outputs": [],
   "source": [
    "v1 = Vizier(columns=['RA_ICRS', 'DE_ICRS', 'zsp','umag', 'e_umag', 'gmag', 'e_gmag', 'rmag', 'e_rmag', 'imag', 'e_imag', 'zmag', 'e_zmag'],\n",
    "            column_filters={'class': '==3', 'mode': '==1'})"
   ]
  },
  {
   "cell_type": "markdown",
   "id": "dbb48277",
   "metadata": {},
   "source": [
    "Ahora se realizó el query definitivo al catálogo V/154 en la region de 30 arcmin de radio del centro del Cúmulo de Coma:"
   ]
  },
  {
   "cell_type": "code",
   "execution_count": 110,
   "id": "d52740d1",
   "metadata": {},
   "outputs": [
    {
     "name": "stdout",
     "output_type": "stream",
     "text": [
      "TableList with 1 tables:\n",
      "\t'0:V/154/sdss16' with 13 column(s) and 50 row(s) \n"
     ]
    }
   ],
   "source": [
    "results_coma_sdss16 = v1.query_region('A1656', radius='0d30m0s', catalog='V/154')\n",
    "print(results_coma_sdss16)"
   ]
  },
  {
   "cell_type": "code",
   "execution_count": 111,
   "id": "0bb1eb3b",
   "metadata": {},
   "outputs": [
    {
     "data": {
      "text/plain": [
       "50"
      ]
     },
     "execution_count": 111,
     "metadata": {},
     "output_type": "execute_result"
    }
   ],
   "source": [
    "# El resultado fue una tabla con los datos respectivos correspondientes a 50 galaxias\n",
    "sdss_dr16 = results_coma_sdss16[0]\n",
    "len(sdss_dr16)"
   ]
  },
  {
   "cell_type": "code",
   "execution_count": 112,
   "id": "182071ca",
   "metadata": {},
   "outputs": [],
   "source": [
    "# Se convirtió la tabla de Astropy en un dataframe y se renombraron las columnas respectivas\n",
    "sdss = pd.DataFrame(np.array(sdss_dr16))\n",
    "sdss = sdss.rename(columns={ 'zsp': 'Redshift','DE_ICRS': 'DEC', 'RA_ICRS': 'RA'})"
   ]
  },
  {
   "cell_type": "markdown",
   "id": "8baeb4b0",
   "metadata": {},
   "source": [
    "Luego, se procedió a concatenar los dataframes del archivo csv (data de velocidades obtenida del query al NED)"
   ]
  },
  {
   "cell_type": "code",
   "execution_count": 113,
   "id": "c53c579e",
   "metadata": {},
   "outputs": [],
   "source": [
    "result_total = pd.concat([df, sdss])"
   ]
  },
  {
   "cell_type": "code",
   "execution_count": 114,
   "id": "bf16a11a",
   "metadata": {},
   "outputs": [
    {
     "data": {
      "text/html": [
       "<div>\n",
       "<style scoped>\n",
       "    .dataframe tbody tr th:only-of-type {\n",
       "        vertical-align: middle;\n",
       "    }\n",
       "\n",
       "    .dataframe tbody tr th {\n",
       "        vertical-align: top;\n",
       "    }\n",
       "\n",
       "    .dataframe thead th {\n",
       "        text-align: right;\n",
       "    }\n",
       "</style>\n",
       "<table border=\"1\" class=\"dataframe\">\n",
       "  <thead>\n",
       "    <tr style=\"text-align: right;\">\n",
       "      <th></th>\n",
       "      <th>RA</th>\n",
       "      <th>DEC</th>\n",
       "      <th>Velocity</th>\n",
       "      <th>Redshift</th>\n",
       "      <th>umag</th>\n",
       "      <th>e_umag</th>\n",
       "      <th>gmag</th>\n",
       "      <th>e_gmag</th>\n",
       "      <th>rmag</th>\n",
       "      <th>e_rmag</th>\n",
       "      <th>imag</th>\n",
       "      <th>e_imag</th>\n",
       "      <th>zmag</th>\n",
       "      <th>e_zmag</th>\n",
       "    </tr>\n",
       "  </thead>\n",
       "  <tbody>\n",
       "    <tr>\n",
       "      <th>1</th>\n",
       "      <td>194.898780</td>\n",
       "      <td>27.959270</td>\n",
       "      <td>7167.0</td>\n",
       "      <td>0.023907</td>\n",
       "      <td>NaN</td>\n",
       "      <td>NaN</td>\n",
       "      <td>NaN</td>\n",
       "      <td>NaN</td>\n",
       "      <td>NaN</td>\n",
       "      <td>NaN</td>\n",
       "      <td>NaN</td>\n",
       "      <td>NaN</td>\n",
       "      <td>NaN</td>\n",
       "      <td>NaN</td>\n",
       "    </tr>\n",
       "    <tr>\n",
       "      <th>13</th>\n",
       "      <td>194.952460</td>\n",
       "      <td>27.982740</td>\n",
       "      <td>5358.0</td>\n",
       "      <td>0.017872</td>\n",
       "      <td>NaN</td>\n",
       "      <td>NaN</td>\n",
       "      <td>NaN</td>\n",
       "      <td>NaN</td>\n",
       "      <td>NaN</td>\n",
       "      <td>NaN</td>\n",
       "      <td>NaN</td>\n",
       "      <td>NaN</td>\n",
       "      <td>NaN</td>\n",
       "      <td>NaN</td>\n",
       "    </tr>\n",
       "    <tr>\n",
       "      <th>18</th>\n",
       "      <td>194.979550</td>\n",
       "      <td>28.128360</td>\n",
       "      <td>7564.0</td>\n",
       "      <td>0.025231</td>\n",
       "      <td>NaN</td>\n",
       "      <td>NaN</td>\n",
       "      <td>NaN</td>\n",
       "      <td>NaN</td>\n",
       "      <td>NaN</td>\n",
       "      <td>NaN</td>\n",
       "      <td>NaN</td>\n",
       "      <td>NaN</td>\n",
       "      <td>NaN</td>\n",
       "      <td>NaN</td>\n",
       "    </tr>\n",
       "    <tr>\n",
       "      <th>21</th>\n",
       "      <td>194.855530</td>\n",
       "      <td>27.967930</td>\n",
       "      <td>7706.0</td>\n",
       "      <td>0.025704</td>\n",
       "      <td>NaN</td>\n",
       "      <td>NaN</td>\n",
       "      <td>NaN</td>\n",
       "      <td>NaN</td>\n",
       "      <td>NaN</td>\n",
       "      <td>NaN</td>\n",
       "      <td>NaN</td>\n",
       "      <td>NaN</td>\n",
       "      <td>NaN</td>\n",
       "      <td>NaN</td>\n",
       "    </tr>\n",
       "    <tr>\n",
       "      <th>31</th>\n",
       "      <td>195.004290</td>\n",
       "      <td>28.081860</td>\n",
       "      <td>7765.0</td>\n",
       "      <td>0.025900</td>\n",
       "      <td>NaN</td>\n",
       "      <td>NaN</td>\n",
       "      <td>NaN</td>\n",
       "      <td>NaN</td>\n",
       "      <td>NaN</td>\n",
       "      <td>NaN</td>\n",
       "      <td>NaN</td>\n",
       "      <td>NaN</td>\n",
       "      <td>NaN</td>\n",
       "      <td>NaN</td>\n",
       "    </tr>\n",
       "    <tr>\n",
       "      <th>...</th>\n",
       "      <td>...</td>\n",
       "      <td>...</td>\n",
       "      <td>...</td>\n",
       "      <td>...</td>\n",
       "      <td>...</td>\n",
       "      <td>...</td>\n",
       "      <td>...</td>\n",
       "      <td>...</td>\n",
       "      <td>...</td>\n",
       "      <td>...</td>\n",
       "      <td>...</td>\n",
       "      <td>...</td>\n",
       "      <td>...</td>\n",
       "      <td>...</td>\n",
       "    </tr>\n",
       "    <tr>\n",
       "      <th>45</th>\n",
       "      <td>195.108335</td>\n",
       "      <td>27.516845</td>\n",
       "      <td>NaN</td>\n",
       "      <td>NaN</td>\n",
       "      <td>22.518999</td>\n",
       "      <td>0.299</td>\n",
       "      <td>22.134001</td>\n",
       "      <td>0.087</td>\n",
       "      <td>21.430000</td>\n",
       "      <td>0.069</td>\n",
       "      <td>21.518999</td>\n",
       "      <td>0.116</td>\n",
       "      <td>21.525999</td>\n",
       "      <td>0.485</td>\n",
       "    </tr>\n",
       "    <tr>\n",
       "      <th>46</th>\n",
       "      <td>195.117908</td>\n",
       "      <td>27.512141</td>\n",
       "      <td>NaN</td>\n",
       "      <td>NaN</td>\n",
       "      <td>24.316999</td>\n",
       "      <td>1.932</td>\n",
       "      <td>23.485001</td>\n",
       "      <td>0.548</td>\n",
       "      <td>21.009001</td>\n",
       "      <td>0.096</td>\n",
       "      <td>20.152000</td>\n",
       "      <td>0.072</td>\n",
       "      <td>21.735001</td>\n",
       "      <td>1.214</td>\n",
       "    </tr>\n",
       "    <tr>\n",
       "      <th>47</th>\n",
       "      <td>195.122902</td>\n",
       "      <td>27.511571</td>\n",
       "      <td>NaN</td>\n",
       "      <td>NaN</td>\n",
       "      <td>23.790001</td>\n",
       "      <td>0.711</td>\n",
       "      <td>22.358000</td>\n",
       "      <td>0.104</td>\n",
       "      <td>22.195999</td>\n",
       "      <td>0.124</td>\n",
       "      <td>23.039000</td>\n",
       "      <td>0.379</td>\n",
       "      <td>22.075001</td>\n",
       "      <td>0.641</td>\n",
       "    </tr>\n",
       "    <tr>\n",
       "      <th>48</th>\n",
       "      <td>195.114629</td>\n",
       "      <td>27.526350</td>\n",
       "      <td>NaN</td>\n",
       "      <td>NaN</td>\n",
       "      <td>23.056000</td>\n",
       "      <td>0.516</td>\n",
       "      <td>22.629999</td>\n",
       "      <td>0.149</td>\n",
       "      <td>21.617001</td>\n",
       "      <td>0.095</td>\n",
       "      <td>21.052999</td>\n",
       "      <td>0.092</td>\n",
       "      <td>22.033001</td>\n",
       "      <td>0.808</td>\n",
       "    </tr>\n",
       "    <tr>\n",
       "      <th>49</th>\n",
       "      <td>195.124565</td>\n",
       "      <td>27.507866</td>\n",
       "      <td>NaN</td>\n",
       "      <td>NaN</td>\n",
       "      <td>25.521000</td>\n",
       "      <td>0.746</td>\n",
       "      <td>23.395000</td>\n",
       "      <td>0.268</td>\n",
       "      <td>22.346001</td>\n",
       "      <td>0.164</td>\n",
       "      <td>21.591000</td>\n",
       "      <td>0.134</td>\n",
       "      <td>22.018000</td>\n",
       "      <td>0.734</td>\n",
       "    </tr>\n",
       "  </tbody>\n",
       "</table>\n",
       "<p>307 rows × 14 columns</p>\n",
       "</div>"
      ],
      "text/plain": [
       "            RA        DEC  Velocity  Redshift       umag  e_umag       gmag  \\\n",
       "1   194.898780  27.959270    7167.0  0.023907        NaN     NaN        NaN   \n",
       "13  194.952460  27.982740    5358.0  0.017872        NaN     NaN        NaN   \n",
       "18  194.979550  28.128360    7564.0  0.025231        NaN     NaN        NaN   \n",
       "21  194.855530  27.967930    7706.0  0.025704        NaN     NaN        NaN   \n",
       "31  195.004290  28.081860    7765.0  0.025900        NaN     NaN        NaN   \n",
       "..         ...        ...       ...       ...        ...     ...        ...   \n",
       "45  195.108335  27.516845       NaN       NaN  22.518999   0.299  22.134001   \n",
       "46  195.117908  27.512141       NaN       NaN  24.316999   1.932  23.485001   \n",
       "47  195.122902  27.511571       NaN       NaN  23.790001   0.711  22.358000   \n",
       "48  195.114629  27.526350       NaN       NaN  23.056000   0.516  22.629999   \n",
       "49  195.124565  27.507866       NaN       NaN  25.521000   0.746  23.395000   \n",
       "\n",
       "    e_gmag       rmag  e_rmag       imag  e_imag       zmag  e_zmag  \n",
       "1      NaN        NaN     NaN        NaN     NaN        NaN     NaN  \n",
       "13     NaN        NaN     NaN        NaN     NaN        NaN     NaN  \n",
       "18     NaN        NaN     NaN        NaN     NaN        NaN     NaN  \n",
       "21     NaN        NaN     NaN        NaN     NaN        NaN     NaN  \n",
       "31     NaN        NaN     NaN        NaN     NaN        NaN     NaN  \n",
       "..     ...        ...     ...        ...     ...        ...     ...  \n",
       "45   0.087  21.430000   0.069  21.518999   0.116  21.525999   0.485  \n",
       "46   0.548  21.009001   0.096  20.152000   0.072  21.735001   1.214  \n",
       "47   0.104  22.195999   0.124  23.039000   0.379  22.075001   0.641  \n",
       "48   0.149  21.617001   0.095  21.052999   0.092  22.033001   0.808  \n",
       "49   0.268  22.346001   0.164  21.591000   0.134  22.018000   0.734  \n",
       "\n",
       "[307 rows x 14 columns]"
      ]
     },
     "execution_count": 114,
     "metadata": {},
     "output_type": "execute_result"
    }
   ],
   "source": [
    "result_total = result_total.drop_duplicates(subset=['RA'])\n",
    "result_total = result_total.drop_duplicates(subset=['DEC'])\n",
    "result_total"
   ]
  },
  {
   "cell_type": "markdown",
   "id": "adc91a5d",
   "metadata": {},
   "source": [
    "A continuación, se definió un algoritmo que pueda separar la data de las velocidades con sus recuentos respectivos para poder realizar el histograma de velocidades del Cúmulo de Coma:"
   ]
  },
  {
   "cell_type": "code",
   "execution_count": 115,
   "id": "92bfb3ce",
   "metadata": {},
   "outputs": [],
   "source": [
    "# Se definió el número de bins a utilizar en el histograma de velocidades\n",
    "bins = 20\n",
    "\n",
    "# Valores máximo y mínimo de las velocidades\n",
    "minimo = min(velocities)\n",
    "maximo = max(velocities)\n",
    "\n",
    "# Cálculo del ancho de cada bin\n",
    "ancho = (maximo-minimo)/bins\n",
    "\n",
    "# Función que retorna el número de galaxias cuyas velocidades están en el bin definido entre los valores de velocidades minimun y maximum\n",
    "def histograma_intervalo(minimum,maximum):\n",
    "\tbin_velocities = velocities.loc[lambda x : (x >= minimum) & (x <= maximum)]\n",
    "\treturn len(bin_velocities)\n",
    "\n",
    "# Función que devuelve la data de los rangos de velocidades de cada bin y los recuentos respectivos de cada uno en un array\n",
    "def histograma(velocities):\n",
    "\tx = []\n",
    "\ty = []\n",
    "\n",
    "\tfor i in range(20):\n",
    "\t\tx.append(minimo+i*ancho+ancho/2)\n",
    "\t\tret_aux = histograma_intervalo(minimo+i*ancho,minimo+(i+1)*ancho)\n",
    "\t\ty.append(ret_aux)\n",
    "        \n",
    "\tx = np.array(x)\n",
    "\ty = np.array(y)\n",
    "\treturn np.array([x,y])"
   ]
  },
  {
   "cell_type": "code",
   "execution_count": 116,
   "id": "fe8a3997",
   "metadata": {},
   "outputs": [],
   "source": [
    "# Se aplicó la función histograma a los datos de velocidades \n",
    "histogram_velocities = histograma(velocities)"
   ]
  },
  {
   "cell_type": "markdown",
   "id": "f87878a2",
   "metadata": {},
   "source": [
    "Se procedió a realizar el gráfico del histograma de velocidades para el Cúmulo de Coma:"
   ]
  },
  {
   "cell_type": "code",
   "execution_count": 117,
   "id": "a7c8f237",
   "metadata": {},
   "outputs": [
    {
     "data": {
      "text/plain": [
       "(2000.0, 10000.0)"
      ]
     },
     "execution_count": 117,
     "metadata": {},
     "output_type": "execute_result"
    },
    {
     "data": {
      "image/png": "[encoded data removed]",
      "text/plain": [
       "<Figure size 432x288 with 1 Axes>"
      ]
     },
     "metadata": {
      "needs_background": "light"
     },
     "output_type": "display_data"
    }
   ],
   "source": [
    "plt.ticklabel_format(style='plain')\n",
    "plt.hist(velocities,bins=20, color='red', alpha=0.7)\n",
    "plt.grid(axis='y', alpha=0.75)\n",
    "plt.title('Histograma de Velocidades en el Cúmulo de Coma')\n",
    "plt.xlabel('Velocidad (km/s)')\n",
    "plt.ylabel('Número de Galaxias')\n",
    "plt.xlim(2000,10000)"
   ]
  },
  {
   "cell_type": "markdown",
   "id": "1483e500",
   "metadata": {},
   "source": [
    "Definición de la función Gauss (curva gausiana):"
   ]
  },
  {
   "cell_type": "markdown",
   "id": "35144ee2",
   "metadata": {},
   "source": [
    "$$\n",
    "y(x)=Ae^{-\\frac{({x-x_0})^2}{2\\sigma^2}}\n",
    "$$"
   ]
  },
  {
   "cell_type": "markdown",
   "id": "4bd65faa",
   "metadata": {},
   "source": [
    "$$A= Amplitud \\space(valor \\space máximo)\n",
    "$$"
   ]
  },
  {
   "cell_type": "markdown",
   "id": "0797d133",
   "metadata": {},
   "source": [
    "$$x_0= Media\n",
    "$$"
   ]
  },
  {
   "cell_type": "markdown",
   "id": "1a928605",
   "metadata": {},
   "source": [
    "$$\\sigma= Desviación\\space Estándar\n",
    "$$"
   ]
  },
  {
   "cell_type": "code",
   "execution_count": 118,
   "id": "7fe377cb",
   "metadata": {},
   "outputs": [],
   "source": [
    "def gauss(x, A, x0, sigma):\n",
    "    return A * np.exp(-(x - x0) ** 2 / (2 * sigma ** 2))"
   ]
  },
  {
   "cell_type": "markdown",
   "id": "575119d7",
   "metadata": {},
   "source": [
    "Se utilizó la función curve_fit para en base a los datos del histograma, calcular los valores óptimos de los parámetros del Gaussian Fit:"
   ]
  },
  {
   "cell_type": "code",
   "execution_count": 119,
   "id": "3b1f29f6",
   "metadata": {},
   "outputs": [],
   "source": [
    "parameters, covariance = curve_fit(gauss, histogram_velocities[0], histogram_velocities[1],p0=[51,7000,1000])"
   ]
  },
  {
   "cell_type": "code",
   "execution_count": 120,
   "id": "b6641898",
   "metadata": {},
   "outputs": [
    {
     "data": {
      "text/plain": [
       "array([  38.99842214, 6986.64371744,  796.4792731 ])"
      ]
     },
     "execution_count": 120,
     "metadata": {},
     "output_type": "execute_result"
    }
   ],
   "source": [
    "parameters"
   ]
  },
  {
   "cell_type": "code",
   "execution_count": 121,
   "id": "b6a9cbf4",
   "metadata": {},
   "outputs": [
    {
     "data": {
      "text/plain": [
       "796.4792731004667"
      ]
     },
     "execution_count": 121,
     "metadata": {},
     "output_type": "execute_result"
    }
   ],
   "source": [
    "# Valor óptimo de la desviación estándar\n",
    "sigma = parameters[2]\n",
    "sigma"
   ]
  },
  {
   "cell_type": "code",
   "execution_count": 122,
   "id": "a20d6498",
   "metadata": {},
   "outputs": [
    {
     "data": {
      "text/plain": [
       "2389.4378193014"
      ]
     },
     "execution_count": 122,
     "metadata": {},
     "output_type": "execute_result"
    }
   ],
   "source": [
    "tres_sigma = 3*sigma\n",
    "tres_sigma"
   ]
  },
  {
   "cell_type": "code",
   "execution_count": 123,
   "id": "9614cfcf",
   "metadata": {},
   "outputs": [
    {
     "data": {
      "text/plain": [
       "6986.643717437546"
      ]
     },
     "execution_count": 123,
     "metadata": {},
     "output_type": "execute_result"
    }
   ],
   "source": [
    "# Valor óptimo de la media\n",
    "media = parameters[1]\n",
    "media"
   ]
  },
  {
   "cell_type": "markdown",
   "id": "ca0c4a85",
   "metadata": {},
   "source": [
    "Cálculo de los valores límites máximo y mínimo de las velocidades dentro del rango de 3 sigma de la media:"
   ]
  },
  {
   "cell_type": "code",
   "execution_count": 124,
   "id": "3ced9c93",
   "metadata": {},
   "outputs": [
    {
     "name": "stdout",
     "output_type": "stream",
     "text": [
      "[4597.205898136146, 9376.081536738946]\n"
     ]
    }
   ],
   "source": [
    "min_limit = media-tres_sigma\n",
    "max_limit = media+tres_sigma\n",
    "print([min_limit,max_limit])"
   ]
  },
  {
   "cell_type": "markdown",
   "id": "84ed2f54",
   "metadata": {},
   "source": [
    "Se efectuó un scatter plot de las velocidades del Cúmulo de Coma y el fit gausiano:"
   ]
  },
  {
   "cell_type": "code",
   "execution_count": 125,
   "id": "ba24fa84",
   "metadata": {},
   "outputs": [
    {
     "data": {
      "image/png": "[encoded data removed]",
      "text/plain": [
       "<Figure size 432x288 with 1 Axes>"
      ]
     },
     "metadata": {
      "needs_background": "light"
     },
     "output_type": "display_data"
    }
   ],
   "source": [
    "x = np.linspace(minimo,maximo,200)\n",
    "y = gauss(x,*parameters)\n",
    "\n",
    "plt.title('Scatter Plot de Velocidades en el Cúmulo de Coma')\n",
    "plt.plot(histogram_velocities[0], histogram_velocities[1], 'o', label='Data')\n",
    "plt.plot(x, y, '-', label='Fit Gausiano')\n",
    "line_values=[min_limit,media,max_limit]\n",
    "plt.xlabel('Velocidad (km/s)')\n",
    "plt.ylabel('Número de Galaxias')\n",
    "plt.vlines(line_values[0],0,gauss(line_values[0],*parameters), linestyle='--', color='red',label='x0 - 3σ = 4597.206')\n",
    "plt.vlines(line_values[1],0,gauss(line_values[1],*parameters), linestyle='--', color='purple',label='Media: x0 = 6986.644')\n",
    "plt.vlines(line_values[2],0,gauss(line_values[2],*parameters), linestyle='--', color='green',label='x0 + 3σ = 9376.082')\n",
    "plt.ylim(0,55)\n",
    "plt.legend()\n",
    "plt.savefig('Gaussian Fit Scatter Plot.png')"
   ]
  },
  {
   "cell_type": "markdown",
   "id": "695880f5",
   "metadata": {},
   "source": [
    "Finalmente, se realizó el histograma de velocidades del Cúmulo de Coma junto con su respectivo ajuste gausiano:"
   ]
  },
  {
   "cell_type": "code",
   "execution_count": 126,
   "id": "b936c21b",
   "metadata": {},
   "outputs": [
    {
     "data": {
      "image/png": "[encoded data removed]",
      "text/plain": [
       "<Figure size 432x288 with 1 Axes>"
      ]
     },
     "metadata": {
      "needs_background": "light"
     },
     "output_type": "display_data"
    }
   ],
   "source": [
    "plt.ticklabel_format(style='plain')\n",
    "plt.hist(velocities,bins=20, color='red', alpha=0.7)\n",
    "plt.grid(axis='y', alpha=0.75)\n",
    "plt.title('Histograma de Velocidades en el Cúmulo de Coma')\n",
    "plt.xlabel('Velocidad (km/s)')\n",
    "plt.ylabel('Número de Galaxias')\n",
    "plt.plot(x, y, '-', label='Fit Gausiano')\n",
    "plt.xlim(2000,10000)\n",
    "plt.vlines(line_values[0],0,gauss(line_values[0],*parameters), linestyle='--', color='yellow',label='x0 - 3σ = 4597.206')\n",
    "plt.vlines(line_values[1],0,gauss(line_values[1],*parameters), linestyle='--', color='cyan',label='Media: x0 = 6986.644')\n",
    "plt.vlines(line_values[2],0,gauss(line_values[2],*parameters), linestyle='--', color='pink',label='x0 + 3σ = 9376.082')\n",
    "plt.legend()\n",
    "plt.savefig('Gaussian Fit Histogram.png')"
   ]
  },
  {
   "cell_type": "markdown",
   "id": "05bed10d",
   "metadata": {},
   "source": [
    "Del histograma presentado, se ouede observar que cerca del 92% de las galaxias se encuentran dentro del rango de 3σ de la media:"
   ]
  },
  {
   "cell_type": "code",
   "execution_count": 127,
   "id": "055dbeb8",
   "metadata": {},
   "outputs": [
    {
     "data": {
      "text/plain": [
       "91.66666666666667"
      ]
     },
     "execution_count": 127,
     "metadata": {},
     "output_type": "execute_result"
    }
   ],
   "source": [
    "histograma_intervalo(min_limit,max_limit)*100/len(velocities)"
   ]
  },
  {
   "cell_type": "markdown",
   "id": "9e1144c7",
   "metadata": {},
   "source": [
    "Luego, de la tabla general obtenida, se procedió a realizar el filtro para quedarnos con una tabla que contenga solo con las galaxias que se encuentren dentro del rango de 3σ de la media, que las tomaremos como las galaxias que pertenecen al Cúmulo de Coma: "
   ]
  },
  {
   "cell_type": "code",
   "execution_count": 128,
   "id": "486cd695",
   "metadata": {},
   "outputs": [
    {
     "name": "stdout",
     "output_type": "stream",
     "text": [
      "              RA       DEC  Velocity  Redshift  umag  e_umag  gmag  e_gmag  \\\n",
      "1      194.89878  27.95927    7167.0  0.023907   NaN     NaN   NaN     NaN   \n",
      "13     194.95246  27.98274    5358.0  0.017872   NaN     NaN   NaN     NaN   \n",
      "18     194.97955  28.12836    7564.0  0.025231   NaN     NaN   NaN     NaN   \n",
      "21     194.85553  27.96793    7706.0  0.025704   NaN     NaN   NaN     NaN   \n",
      "31     195.00429  28.08186    7765.0  0.025900   NaN     NaN   NaN     NaN   \n",
      "...          ...       ...       ...       ...   ...     ...   ...     ...   \n",
      "49112  195.12872  27.97443    6315.0  0.021065   NaN     NaN   NaN     NaN   \n",
      "49308  194.93904  27.85700    6410.0  0.021381   NaN     NaN   NaN     NaN   \n",
      "49432  194.88512  27.86317    6719.0  0.022412   NaN     NaN   NaN     NaN   \n",
      "49446  194.93775  27.84844    8520.0  0.028420   NaN     NaN   NaN     NaN   \n",
      "49642  194.92720  28.13554    9174.0  0.030600   NaN     NaN   NaN     NaN   \n",
      "\n",
      "       rmag  e_rmag  imag  e_imag  zmag  e_zmag  \n",
      "1       NaN     NaN   NaN     NaN   NaN     NaN  \n",
      "13      NaN     NaN   NaN     NaN   NaN     NaN  \n",
      "18      NaN     NaN   NaN     NaN   NaN     NaN  \n",
      "21      NaN     NaN   NaN     NaN   NaN     NaN  \n",
      "31      NaN     NaN   NaN     NaN   NaN     NaN  \n",
      "...     ...     ...   ...     ...   ...     ...  \n",
      "49112   NaN     NaN   NaN     NaN   NaN     NaN  \n",
      "49308   NaN     NaN   NaN     NaN   NaN     NaN  \n",
      "49432   NaN     NaN   NaN     NaN   NaN     NaN  \n",
      "49446   NaN     NaN   NaN     NaN   NaN     NaN  \n",
      "49642   NaN     NaN   NaN     NaN   NaN     NaN  \n",
      "\n",
      "[236 rows x 14 columns]\n"
     ]
    }
   ],
   "source": [
    "result_coma = result_total.query('Velocity >= @min_limit and Velocity <= @max_limit')\n",
    "print(result_coma)"
   ]
  },
  {
   "cell_type": "markdown",
   "id": "115666e0",
   "metadata": {},
   "source": [
    "Por otro lado, se procedió a extraer las magnitudes en los diferentes filtros y los indices de color (U-G y R-I) para las galaxias del cúmulo:"
   ]
  },
  {
   "cell_type": "markdown",
   "id": "60e112a9",
   "metadata": {},
   "source": [
    "En un caso ideal, para realizar el Diagrama de Color-Magnitud del Cúmulo de Coma se debería trabajar solo con las galaxias que tienen velocidades entre -3σ y 3σ de la media de velocidad (result_coma), pero en este caso, se observó que justo de esas galaxias no se poseía casi ningún dato de magnitud en los diferentes filtros, por lo que se procedió a trabajar con el set de datos completos (antes de realizar el filtro: result_total) o lo que es lo mismo, no con el 92% de las galaxias del histograma, sino con el 100% de estas."
   ]
  },
  {
   "cell_type": "code",
   "execution_count": 129,
   "id": "835f2eca",
   "metadata": {},
   "outputs": [],
   "source": [
    "umag = result_total['umag']\n",
    "gmag = result_total['gmag']\n",
    "rmag = result_total['rmag']\n",
    "imag = result_total['imag']\n",
    "zmag = result_total['zmag']\n",
    "\n",
    "ri_color = rmag - imag\n",
    "ug_color = umag - gmag"
   ]
  },
  {
   "cell_type": "markdown",
   "id": "102fada0",
   "metadata": {},
   "source": [
    "Diagrama Color-Magnitud del Cúmulo de Coma en los filtros I y R:"
   ]
  },
  {
   "cell_type": "code",
   "execution_count": 130,
   "id": "de73c9a9",
   "metadata": {},
   "outputs": [
    {
     "data": {
      "image/png": "[encoded data removed]",
      "text/plain": [
       "<Figure size 504x504 with 1 Axes>"
      ]
     },
     "metadata": {
      "needs_background": "light"
     },
     "output_type": "display_data"
    }
   ],
   "source": [
    "fig = plt.figure(figsize=(7,7))\n",
    "plt.grid(True)\n",
    "plt.title('Diagrama Color Magnitud del Cúmulo de Coma (Filtros r,i)')\n",
    "plt.scatter(ri_color, imag,s=20)\n",
    "plt.xlabel('r-i (Color)')\n",
    "plt.ylabel('Magnitud i')\n",
    "fig.savefig('plotRI.png')"
   ]
  },
  {
   "cell_type": "markdown",
   "id": "519650a0",
   "metadata": {},
   "source": [
    "Diagrama Color-Magnitud del Cúmulo de Coma en los filtros U y G:"
   ]
  },
  {
   "cell_type": "code",
   "execution_count": 131,
   "id": "967b33c5",
   "metadata": {},
   "outputs": [
    {
     "data": {
      "image/png": "[encoded data removed]",
      "text/plain": [
       "<Figure size 504x504 with 1 Axes>"
      ]
     },
     "metadata": {
      "needs_background": "light"
     },
     "output_type": "display_data"
    }
   ],
   "source": [
    "fig = plt.figure(figsize=(7,7))\n",
    "plt.grid(True)\n",
    "plt.title('Diagrama Color Magnitud del Cúmulo de Coma (Filtros u,g)')\n",
    "plt.scatter(ug_color, gmag,s=20)\n",
    "plt.xlabel('u-g (Color)')\n",
    "plt.ylabel('Magnitud g')\n",
    "fig.savefig('plotUG.png')"
   ]
  },
  {
   "cell_type": "markdown",
   "id": "33bf6b93",
   "metadata": {},
   "source": [
    "Extracción de los datos de Redshift:"
   ]
  },
  {
   "cell_type": "code",
   "execution_count": 132,
   "id": "3059ce89",
   "metadata": {},
   "outputs": [],
   "source": [
    "z = result_coma['Redshift']\n",
    "c = 299792 #Definición de la velocidad de la luz en km/s"
   ]
  },
  {
   "cell_type": "markdown",
   "id": "3768a6e8",
   "metadata": {},
   "source": [
    "Se añadió una columna al dataframe con los valores de c.z (km/s):"
   ]
  },
  {
   "cell_type": "code",
   "execution_count": 133,
   "id": "ce6afa93",
   "metadata": {},
   "outputs": [],
   "source": [
    "cz = [n * c for n in z]\n",
    "result_coma = result_coma.assign(cz= cz)"
   ]
  },
  {
   "cell_type": "code",
   "execution_count": 134,
   "id": "5e731cfd",
   "metadata": {},
   "outputs": [
    {
     "data": {
      "text/html": [
       "<div>\n",
       "<style scoped>\n",
       "    .dataframe tbody tr th:only-of-type {\n",
       "        vertical-align: middle;\n",
       "    }\n",
       "\n",
       "    .dataframe tbody tr th {\n",
       "        vertical-align: top;\n",
       "    }\n",
       "\n",
       "    .dataframe thead th {\n",
       "        text-align: right;\n",
       "    }\n",
       "</style>\n",
       "<table border=\"1\" class=\"dataframe\">\n",
       "  <thead>\n",
       "    <tr style=\"text-align: right;\">\n",
       "      <th></th>\n",
       "      <th>RA</th>\n",
       "      <th>DEC</th>\n",
       "      <th>Velocity</th>\n",
       "      <th>Redshift</th>\n",
       "      <th>umag</th>\n",
       "      <th>e_umag</th>\n",
       "      <th>gmag</th>\n",
       "      <th>e_gmag</th>\n",
       "      <th>rmag</th>\n",
       "      <th>e_rmag</th>\n",
       "      <th>imag</th>\n",
       "      <th>e_imag</th>\n",
       "      <th>zmag</th>\n",
       "      <th>e_zmag</th>\n",
       "      <th>cz</th>\n",
       "    </tr>\n",
       "  </thead>\n",
       "  <tbody>\n",
       "    <tr>\n",
       "      <th>1</th>\n",
       "      <td>194.89878</td>\n",
       "      <td>27.95927</td>\n",
       "      <td>7167.0</td>\n",
       "      <td>0.023907</td>\n",
       "      <td>NaN</td>\n",
       "      <td>NaN</td>\n",
       "      <td>NaN</td>\n",
       "      <td>NaN</td>\n",
       "      <td>NaN</td>\n",
       "      <td>NaN</td>\n",
       "      <td>NaN</td>\n",
       "      <td>NaN</td>\n",
       "      <td>NaN</td>\n",
       "      <td>NaN</td>\n",
       "      <td>7167.127344</td>\n",
       "    </tr>\n",
       "    <tr>\n",
       "      <th>13</th>\n",
       "      <td>194.95246</td>\n",
       "      <td>27.98274</td>\n",
       "      <td>5358.0</td>\n",
       "      <td>0.017872</td>\n",
       "      <td>NaN</td>\n",
       "      <td>NaN</td>\n",
       "      <td>NaN</td>\n",
       "      <td>NaN</td>\n",
       "      <td>NaN</td>\n",
       "      <td>NaN</td>\n",
       "      <td>NaN</td>\n",
       "      <td>NaN</td>\n",
       "      <td>NaN</td>\n",
       "      <td>NaN</td>\n",
       "      <td>5357.882624</td>\n",
       "    </tr>\n",
       "    <tr>\n",
       "      <th>18</th>\n",
       "      <td>194.97955</td>\n",
       "      <td>28.12836</td>\n",
       "      <td>7564.0</td>\n",
       "      <td>0.025231</td>\n",
       "      <td>NaN</td>\n",
       "      <td>NaN</td>\n",
       "      <td>NaN</td>\n",
       "      <td>NaN</td>\n",
       "      <td>NaN</td>\n",
       "      <td>NaN</td>\n",
       "      <td>NaN</td>\n",
       "      <td>NaN</td>\n",
       "      <td>NaN</td>\n",
       "      <td>NaN</td>\n",
       "      <td>7564.051952</td>\n",
       "    </tr>\n",
       "    <tr>\n",
       "      <th>21</th>\n",
       "      <td>194.85553</td>\n",
       "      <td>27.96793</td>\n",
       "      <td>7706.0</td>\n",
       "      <td>0.025704</td>\n",
       "      <td>NaN</td>\n",
       "      <td>NaN</td>\n",
       "      <td>NaN</td>\n",
       "      <td>NaN</td>\n",
       "      <td>NaN</td>\n",
       "      <td>NaN</td>\n",
       "      <td>NaN</td>\n",
       "      <td>NaN</td>\n",
       "      <td>NaN</td>\n",
       "      <td>NaN</td>\n",
       "      <td>7705.853568</td>\n",
       "    </tr>\n",
       "    <tr>\n",
       "      <th>31</th>\n",
       "      <td>195.00429</td>\n",
       "      <td>28.08186</td>\n",
       "      <td>7765.0</td>\n",
       "      <td>0.025900</td>\n",
       "      <td>NaN</td>\n",
       "      <td>NaN</td>\n",
       "      <td>NaN</td>\n",
       "      <td>NaN</td>\n",
       "      <td>NaN</td>\n",
       "      <td>NaN</td>\n",
       "      <td>NaN</td>\n",
       "      <td>NaN</td>\n",
       "      <td>NaN</td>\n",
       "      <td>NaN</td>\n",
       "      <td>7764.612800</td>\n",
       "    </tr>\n",
       "    <tr>\n",
       "      <th>...</th>\n",
       "      <td>...</td>\n",
       "      <td>...</td>\n",
       "      <td>...</td>\n",
       "      <td>...</td>\n",
       "      <td>...</td>\n",
       "      <td>...</td>\n",
       "      <td>...</td>\n",
       "      <td>...</td>\n",
       "      <td>...</td>\n",
       "      <td>...</td>\n",
       "      <td>...</td>\n",
       "      <td>...</td>\n",
       "      <td>...</td>\n",
       "      <td>...</td>\n",
       "      <td>...</td>\n",
       "    </tr>\n",
       "    <tr>\n",
       "      <th>49112</th>\n",
       "      <td>195.12872</td>\n",
       "      <td>27.97443</td>\n",
       "      <td>6315.0</td>\n",
       "      <td>0.021065</td>\n",
       "      <td>NaN</td>\n",
       "      <td>NaN</td>\n",
       "      <td>NaN</td>\n",
       "      <td>NaN</td>\n",
       "      <td>NaN</td>\n",
       "      <td>NaN</td>\n",
       "      <td>NaN</td>\n",
       "      <td>NaN</td>\n",
       "      <td>NaN</td>\n",
       "      <td>NaN</td>\n",
       "      <td>6315.118480</td>\n",
       "    </tr>\n",
       "    <tr>\n",
       "      <th>49308</th>\n",
       "      <td>194.93904</td>\n",
       "      <td>27.85700</td>\n",
       "      <td>6410.0</td>\n",
       "      <td>0.021381</td>\n",
       "      <td>NaN</td>\n",
       "      <td>NaN</td>\n",
       "      <td>NaN</td>\n",
       "      <td>NaN</td>\n",
       "      <td>NaN</td>\n",
       "      <td>NaN</td>\n",
       "      <td>NaN</td>\n",
       "      <td>NaN</td>\n",
       "      <td>NaN</td>\n",
       "      <td>NaN</td>\n",
       "      <td>6409.852752</td>\n",
       "    </tr>\n",
       "    <tr>\n",
       "      <th>49432</th>\n",
       "      <td>194.88512</td>\n",
       "      <td>27.86317</td>\n",
       "      <td>6719.0</td>\n",
       "      <td>0.022412</td>\n",
       "      <td>NaN</td>\n",
       "      <td>NaN</td>\n",
       "      <td>NaN</td>\n",
       "      <td>NaN</td>\n",
       "      <td>NaN</td>\n",
       "      <td>NaN</td>\n",
       "      <td>NaN</td>\n",
       "      <td>NaN</td>\n",
       "      <td>NaN</td>\n",
       "      <td>NaN</td>\n",
       "      <td>6718.938304</td>\n",
       "    </tr>\n",
       "    <tr>\n",
       "      <th>49446</th>\n",
       "      <td>194.93775</td>\n",
       "      <td>27.84844</td>\n",
       "      <td>8520.0</td>\n",
       "      <td>0.028420</td>\n",
       "      <td>NaN</td>\n",
       "      <td>NaN</td>\n",
       "      <td>NaN</td>\n",
       "      <td>NaN</td>\n",
       "      <td>NaN</td>\n",
       "      <td>NaN</td>\n",
       "      <td>NaN</td>\n",
       "      <td>NaN</td>\n",
       "      <td>NaN</td>\n",
       "      <td>NaN</td>\n",
       "      <td>8520.088640</td>\n",
       "    </tr>\n",
       "    <tr>\n",
       "      <th>49642</th>\n",
       "      <td>194.92720</td>\n",
       "      <td>28.13554</td>\n",
       "      <td>9174.0</td>\n",
       "      <td>0.030600</td>\n",
       "      <td>NaN</td>\n",
       "      <td>NaN</td>\n",
       "      <td>NaN</td>\n",
       "      <td>NaN</td>\n",
       "      <td>NaN</td>\n",
       "      <td>NaN</td>\n",
       "      <td>NaN</td>\n",
       "      <td>NaN</td>\n",
       "      <td>NaN</td>\n",
       "      <td>NaN</td>\n",
       "      <td>9173.635200</td>\n",
       "    </tr>\n",
       "  </tbody>\n",
       "</table>\n",
       "<p>236 rows × 15 columns</p>\n",
       "</div>"
      ],
      "text/plain": [
       "              RA       DEC  Velocity  Redshift  umag  e_umag  gmag  e_gmag  \\\n",
       "1      194.89878  27.95927    7167.0  0.023907   NaN     NaN   NaN     NaN   \n",
       "13     194.95246  27.98274    5358.0  0.017872   NaN     NaN   NaN     NaN   \n",
       "18     194.97955  28.12836    7564.0  0.025231   NaN     NaN   NaN     NaN   \n",
       "21     194.85553  27.96793    7706.0  0.025704   NaN     NaN   NaN     NaN   \n",
       "31     195.00429  28.08186    7765.0  0.025900   NaN     NaN   NaN     NaN   \n",
       "...          ...       ...       ...       ...   ...     ...   ...     ...   \n",
       "49112  195.12872  27.97443    6315.0  0.021065   NaN     NaN   NaN     NaN   \n",
       "49308  194.93904  27.85700    6410.0  0.021381   NaN     NaN   NaN     NaN   \n",
       "49432  194.88512  27.86317    6719.0  0.022412   NaN     NaN   NaN     NaN   \n",
       "49446  194.93775  27.84844    8520.0  0.028420   NaN     NaN   NaN     NaN   \n",
       "49642  194.92720  28.13554    9174.0  0.030600   NaN     NaN   NaN     NaN   \n",
       "\n",
       "       rmag  e_rmag  imag  e_imag  zmag  e_zmag           cz  \n",
       "1       NaN     NaN   NaN     NaN   NaN     NaN  7167.127344  \n",
       "13      NaN     NaN   NaN     NaN   NaN     NaN  5357.882624  \n",
       "18      NaN     NaN   NaN     NaN   NaN     NaN  7564.051952  \n",
       "21      NaN     NaN   NaN     NaN   NaN     NaN  7705.853568  \n",
       "31      NaN     NaN   NaN     NaN   NaN     NaN  7764.612800  \n",
       "...     ...     ...   ...     ...   ...     ...          ...  \n",
       "49112   NaN     NaN   NaN     NaN   NaN     NaN  6315.118480  \n",
       "49308   NaN     NaN   NaN     NaN   NaN     NaN  6409.852752  \n",
       "49432   NaN     NaN   NaN     NaN   NaN     NaN  6718.938304  \n",
       "49446   NaN     NaN   NaN     NaN   NaN     NaN  8520.088640  \n",
       "49642   NaN     NaN   NaN     NaN   NaN     NaN  9173.635200  \n",
       "\n",
       "[236 rows x 15 columns]"
      ]
     },
     "execution_count": 134,
     "metadata": {},
     "output_type": "execute_result"
    }
   ],
   "source": [
    "result_coma"
   ]
  },
  {
   "cell_type": "markdown",
   "id": "07ea5550",
   "metadata": {},
   "source": [
    "Se definió la posición en coordenadas ecuatoriales J200 (RA y DEC en radianes) del centro del Cúmulo de Coma:"
   ]
  },
  {
   "cell_type": "code",
   "execution_count": 135,
   "id": "3ff21d1f",
   "metadata": {},
   "outputs": [],
   "source": [
    "coma_ra = 194.9531 * 2*np.pi/360\n",
    "coma_dec = 27.9807 * 2*np.pi/360    \n",
    "coma_position = [coma_ra, coma_dec]"
   ]
  },
  {
   "cell_type": "markdown",
   "id": "4d445f2a",
   "metadata": {},
   "source": [
    "Cálculo de las ascenciones rectas y declinaciones, de las galaxias del cúmulo de Coma, en radianes:"
   ]
  },
  {
   "cell_type": "code",
   "execution_count": 136,
   "id": "ff1cde6e",
   "metadata": {},
   "outputs": [],
   "source": [
    "ra = result_coma['RA'] * 2*np.pi/360\n",
    "dec = result_coma['DEC'] * 2*np.pi/360"
   ]
  },
  {
   "cell_type": "markdown",
   "id": "1736c865",
   "metadata": {},
   "source": [
    "Se definió una nueva columna con los valores de las distancias de cada galaxia al centro del cúmulo en arcmin:"
   ]
  },
  {
   "cell_type": "markdown",
   "id": "3bebb75f",
   "metadata": {},
   "source": [
    "Para calcular el valor de la distancia d en radianes se utilizó la siguiente fórmula:"
   ]
  },
  {
   "cell_type": "markdown",
   "id": "108c5999",
   "metadata": {},
   "source": [
    "$$\n",
    "|d_{rad}(ra,dec)|=2\\arcsin{\\sqrt{\\sin^2{(\\frac{dec_{coma}-dec_{galaxy}}{2}})+\\cos{(ra_{coma})}·\\cos{(ra_{galaxy})}·\\sin^2{(\\frac{ra_{coma}-ra_{galaxy}}{2}})}}\n",
    "$$"
   ]
  },
  {
   "cell_type": "markdown",
   "id": "fce4f11c",
   "metadata": {},
   "source": [
    "Para convertir la distancia de radianes a arcmin, se paso primero a grados sexagesimales y luego a arco minutos:"
   ]
  },
  {
   "cell_type": "markdown",
   "id": "db828d11",
   "metadata": {},
   "source": [
    "$$\n",
    "|d_{arcmin}(ra,dec)|=\\frac{|d_{rad}(ra,dec)|·360°·60arcmin}{2\\pi}\n",
    "$$"
   ]
  },
  {
   "cell_type": "markdown",
   "id": "ed842214",
   "metadata": {},
   "source": [
    "Por último, para conservar el signo de la distancia (de que lado desde el centro de la galaxia se encuentra), se multiplicó por el signo de la diferencia entre las ascenciones rectas:"
   ]
  },
  {
   "cell_type": "markdown",
   "id": "1d46cff2",
   "metadata": {},
   "source": [
    "$$\n",
    "d_{arcmin}(ra,dec)=\\frac{|d_{arcmin}(ra,dec)|·(ra_{coma}-ra_{galaxy})}{|ra_{coma}-ra_{galaxy}|}\n",
    "$$"
   ]
  },
  {
   "cell_type": "code",
   "execution_count": 137,
   "id": "b0536ed5",
   "metadata": {},
   "outputs": [
    {
     "data": {
      "text/html": [
       "<div>\n",
       "<style scoped>\n",
       "    .dataframe tbody tr th:only-of-type {\n",
       "        vertical-align: middle;\n",
       "    }\n",
       "\n",
       "    .dataframe tbody tr th {\n",
       "        vertical-align: top;\n",
       "    }\n",
       "\n",
       "    .dataframe thead th {\n",
       "        text-align: right;\n",
       "    }\n",
       "</style>\n",
       "<table border=\"1\" class=\"dataframe\">\n",
       "  <thead>\n",
       "    <tr style=\"text-align: right;\">\n",
       "      <th></th>\n",
       "      <th>RA</th>\n",
       "      <th>DEC</th>\n",
       "      <th>Velocity</th>\n",
       "      <th>Redshift</th>\n",
       "      <th>umag</th>\n",
       "      <th>e_umag</th>\n",
       "      <th>gmag</th>\n",
       "      <th>e_gmag</th>\n",
       "      <th>rmag</th>\n",
       "      <th>e_rmag</th>\n",
       "      <th>imag</th>\n",
       "      <th>e_imag</th>\n",
       "      <th>zmag</th>\n",
       "      <th>e_zmag</th>\n",
       "      <th>cz</th>\n",
       "      <th>Distancia</th>\n",
       "    </tr>\n",
       "  </thead>\n",
       "  <tbody>\n",
       "    <tr>\n",
       "      <th>1</th>\n",
       "      <td>194.89878</td>\n",
       "      <td>27.95927</td>\n",
       "      <td>7167.0</td>\n",
       "      <td>0.023907</td>\n",
       "      <td>NaN</td>\n",
       "      <td>NaN</td>\n",
       "      <td>NaN</td>\n",
       "      <td>NaN</td>\n",
       "      <td>NaN</td>\n",
       "      <td>NaN</td>\n",
       "      <td>NaN</td>\n",
       "      <td>NaN</td>\n",
       "      <td>NaN</td>\n",
       "      <td>NaN</td>\n",
       "      <td>7167.127344</td>\n",
       "      <td>3.152628</td>\n",
       "    </tr>\n",
       "    <tr>\n",
       "      <th>13</th>\n",
       "      <td>194.95246</td>\n",
       "      <td>27.98274</td>\n",
       "      <td>5358.0</td>\n",
       "      <td>0.017872</td>\n",
       "      <td>NaN</td>\n",
       "      <td>NaN</td>\n",
       "      <td>NaN</td>\n",
       "      <td>NaN</td>\n",
       "      <td>NaN</td>\n",
       "      <td>NaN</td>\n",
       "      <td>NaN</td>\n",
       "      <td>NaN</td>\n",
       "      <td>NaN</td>\n",
       "      <td>NaN</td>\n",
       "      <td>5357.882624</td>\n",
       "      <td>0.127011</td>\n",
       "    </tr>\n",
       "    <tr>\n",
       "      <th>18</th>\n",
       "      <td>194.97955</td>\n",
       "      <td>28.12836</td>\n",
       "      <td>7564.0</td>\n",
       "      <td>0.025231</td>\n",
       "      <td>NaN</td>\n",
       "      <td>NaN</td>\n",
       "      <td>NaN</td>\n",
       "      <td>NaN</td>\n",
       "      <td>NaN</td>\n",
       "      <td>NaN</td>\n",
       "      <td>NaN</td>\n",
       "      <td>NaN</td>\n",
       "      <td>NaN</td>\n",
       "      <td>NaN</td>\n",
       "      <td>7564.051952</td>\n",
       "      <td>-8.969615</td>\n",
       "    </tr>\n",
       "    <tr>\n",
       "      <th>21</th>\n",
       "      <td>194.85553</td>\n",
       "      <td>27.96793</td>\n",
       "      <td>7706.0</td>\n",
       "      <td>0.025704</td>\n",
       "      <td>NaN</td>\n",
       "      <td>NaN</td>\n",
       "      <td>NaN</td>\n",
       "      <td>NaN</td>\n",
       "      <td>NaN</td>\n",
       "      <td>NaN</td>\n",
       "      <td>NaN</td>\n",
       "      <td>NaN</td>\n",
       "      <td>NaN</td>\n",
       "      <td>NaN</td>\n",
       "      <td>7705.853568</td>\n",
       "      <td>5.226649</td>\n",
       "    </tr>\n",
       "    <tr>\n",
       "      <th>31</th>\n",
       "      <td>195.00429</td>\n",
       "      <td>28.08186</td>\n",
       "      <td>7765.0</td>\n",
       "      <td>0.025900</td>\n",
       "      <td>NaN</td>\n",
       "      <td>NaN</td>\n",
       "      <td>NaN</td>\n",
       "      <td>NaN</td>\n",
       "      <td>NaN</td>\n",
       "      <td>NaN</td>\n",
       "      <td>NaN</td>\n",
       "      <td>NaN</td>\n",
       "      <td>NaN</td>\n",
       "      <td>NaN</td>\n",
       "      <td>7764.612800</td>\n",
       "      <td>-6.647563</td>\n",
       "    </tr>\n",
       "    <tr>\n",
       "      <th>...</th>\n",
       "      <td>...</td>\n",
       "      <td>...</td>\n",
       "      <td>...</td>\n",
       "      <td>...</td>\n",
       "      <td>...</td>\n",
       "      <td>...</td>\n",
       "      <td>...</td>\n",
       "      <td>...</td>\n",
       "      <td>...</td>\n",
       "      <td>...</td>\n",
       "      <td>...</td>\n",
       "      <td>...</td>\n",
       "      <td>...</td>\n",
       "      <td>...</td>\n",
       "      <td>...</td>\n",
       "      <td>...</td>\n",
       "    </tr>\n",
       "    <tr>\n",
       "      <th>49112</th>\n",
       "      <td>195.12872</td>\n",
       "      <td>27.97443</td>\n",
       "      <td>6315.0</td>\n",
       "      <td>0.021065</td>\n",
       "      <td>NaN</td>\n",
       "      <td>NaN</td>\n",
       "      <td>NaN</td>\n",
       "      <td>NaN</td>\n",
       "      <td>NaN</td>\n",
       "      <td>NaN</td>\n",
       "      <td>NaN</td>\n",
       "      <td>NaN</td>\n",
       "      <td>NaN</td>\n",
       "      <td>NaN</td>\n",
       "      <td>6315.118480</td>\n",
       "      <td>-9.313332</td>\n",
       "    </tr>\n",
       "    <tr>\n",
       "      <th>49308</th>\n",
       "      <td>194.93904</td>\n",
       "      <td>27.85700</td>\n",
       "      <td>6410.0</td>\n",
       "      <td>0.021381</td>\n",
       "      <td>NaN</td>\n",
       "      <td>NaN</td>\n",
       "      <td>NaN</td>\n",
       "      <td>NaN</td>\n",
       "      <td>NaN</td>\n",
       "      <td>NaN</td>\n",
       "      <td>NaN</td>\n",
       "      <td>NaN</td>\n",
       "      <td>NaN</td>\n",
       "      <td>NaN</td>\n",
       "      <td>6409.852752</td>\n",
       "      <td>7.459338</td>\n",
       "    </tr>\n",
       "    <tr>\n",
       "      <th>49432</th>\n",
       "      <td>194.88512</td>\n",
       "      <td>27.86317</td>\n",
       "      <td>6719.0</td>\n",
       "      <td>0.022412</td>\n",
       "      <td>NaN</td>\n",
       "      <td>NaN</td>\n",
       "      <td>NaN</td>\n",
       "      <td>NaN</td>\n",
       "      <td>NaN</td>\n",
       "      <td>NaN</td>\n",
       "      <td>NaN</td>\n",
       "      <td>NaN</td>\n",
       "      <td>NaN</td>\n",
       "      <td>NaN</td>\n",
       "      <td>6718.938304</td>\n",
       "      <td>7.919374</td>\n",
       "    </tr>\n",
       "    <tr>\n",
       "      <th>49446</th>\n",
       "      <td>194.93775</td>\n",
       "      <td>27.84844</td>\n",
       "      <td>8520.0</td>\n",
       "      <td>0.028420</td>\n",
       "      <td>NaN</td>\n",
       "      <td>NaN</td>\n",
       "      <td>NaN</td>\n",
       "      <td>NaN</td>\n",
       "      <td>NaN</td>\n",
       "      <td>NaN</td>\n",
       "      <td>NaN</td>\n",
       "      <td>NaN</td>\n",
       "      <td>NaN</td>\n",
       "      <td>NaN</td>\n",
       "      <td>8520.088640</td>\n",
       "      <td>7.977223</td>\n",
       "    </tr>\n",
       "    <tr>\n",
       "      <th>49642</th>\n",
       "      <td>194.92720</td>\n",
       "      <td>28.13554</td>\n",
       "      <td>9174.0</td>\n",
       "      <td>0.030600</td>\n",
       "      <td>NaN</td>\n",
       "      <td>NaN</td>\n",
       "      <td>NaN</td>\n",
       "      <td>NaN</td>\n",
       "      <td>NaN</td>\n",
       "      <td>NaN</td>\n",
       "      <td>NaN</td>\n",
       "      <td>NaN</td>\n",
       "      <td>NaN</td>\n",
       "      <td>NaN</td>\n",
       "      <td>9173.635200</td>\n",
       "      <td>9.391068</td>\n",
       "    </tr>\n",
       "  </tbody>\n",
       "</table>\n",
       "<p>236 rows × 16 columns</p>\n",
       "</div>"
      ],
      "text/plain": [
       "              RA       DEC  Velocity  Redshift  umag  e_umag  gmag  e_gmag  \\\n",
       "1      194.89878  27.95927    7167.0  0.023907   NaN     NaN   NaN     NaN   \n",
       "13     194.95246  27.98274    5358.0  0.017872   NaN     NaN   NaN     NaN   \n",
       "18     194.97955  28.12836    7564.0  0.025231   NaN     NaN   NaN     NaN   \n",
       "21     194.85553  27.96793    7706.0  0.025704   NaN     NaN   NaN     NaN   \n",
       "31     195.00429  28.08186    7765.0  0.025900   NaN     NaN   NaN     NaN   \n",
       "...          ...       ...       ...       ...   ...     ...   ...     ...   \n",
       "49112  195.12872  27.97443    6315.0  0.021065   NaN     NaN   NaN     NaN   \n",
       "49308  194.93904  27.85700    6410.0  0.021381   NaN     NaN   NaN     NaN   \n",
       "49432  194.88512  27.86317    6719.0  0.022412   NaN     NaN   NaN     NaN   \n",
       "49446  194.93775  27.84844    8520.0  0.028420   NaN     NaN   NaN     NaN   \n",
       "49642  194.92720  28.13554    9174.0  0.030600   NaN     NaN   NaN     NaN   \n",
       "\n",
       "       rmag  e_rmag  imag  e_imag  zmag  e_zmag           cz  Distancia  \n",
       "1       NaN     NaN   NaN     NaN   NaN     NaN  7167.127344   3.152628  \n",
       "13      NaN     NaN   NaN     NaN   NaN     NaN  5357.882624   0.127011  \n",
       "18      NaN     NaN   NaN     NaN   NaN     NaN  7564.051952  -8.969615  \n",
       "21      NaN     NaN   NaN     NaN   NaN     NaN  7705.853568   5.226649  \n",
       "31      NaN     NaN   NaN     NaN   NaN     NaN  7764.612800  -6.647563  \n",
       "...     ...     ...   ...     ...   ...     ...          ...        ...  \n",
       "49112   NaN     NaN   NaN     NaN   NaN     NaN  6315.118480  -9.313332  \n",
       "49308   NaN     NaN   NaN     NaN   NaN     NaN  6409.852752   7.459338  \n",
       "49432   NaN     NaN   NaN     NaN   NaN     NaN  6718.938304   7.919374  \n",
       "49446   NaN     NaN   NaN     NaN   NaN     NaN  8520.088640   7.977223  \n",
       "49642   NaN     NaN   NaN     NaN   NaN     NaN  9173.635200   9.391068  \n",
       "\n",
       "[236 rows x 16 columns]"
      ]
     },
     "execution_count": 137,
     "metadata": {},
     "output_type": "execute_result"
    }
   ],
   "source": [
    "Distancia = (coma_ra-ra)*(2*np.arcsin((np.sin((coma_dec-dec)/2)**2+np.cos(coma_dec)*np.cos(dec)*np.sin((coma_ra-ra)/2)**2)**0.5))*360*60/(2*np.pi)/np.abs(coma_ra-ra)\n",
    "\n",
    "result_coma = result_coma.assign(Distancia= Distancia)\n",
    "result_coma"
   ]
  },
  {
   "cell_type": "markdown",
   "id": "5e01b82f",
   "metadata": {},
   "source": [
    "Scatter Plot de densidad de distribución de galaxias en el cúmulo de Coma:"
   ]
  },
  {
   "cell_type": "code",
   "execution_count": 138,
   "id": "ba65c0d2",
   "metadata": {},
   "outputs": [
    {
     "data": {
      "image/png": "[encoded data removed]",
      "text/plain": [
       "<Figure size 504x504 with 1 Axes>"
      ]
     },
     "metadata": {
      "needs_background": "light"
     },
     "output_type": "display_data"
    }
   ],
   "source": [
    "fig = plt.figure(figsize=(7,7))\n",
    "plt.grid(True)\n",
    "plt.title('Densidad de distribución de galaxias en el Cúmulo de Coma')\n",
    "plt.scatter(result_coma['Distancia'],result_coma['cz'],s=20)\n",
    "plt.xlabel('Distancia (arcmin)')\n",
    "plt.ylabel('cz (km/s)')\n",
    "plt.ylim(4000,10000)\n",
    "plt.xlim(-10,10)\n",
    "fig.savefig('Scatter Galaxy Density Distribution.png')"
   ]
  },
  {
   "cell_type": "markdown",
   "id": "f66b95b6",
   "metadata": {},
   "source": [
    "Gráfico de densidad de distribución de galaxias en el cúmulo de Coma:"
   ]
  },
  {
   "cell_type": "code",
   "execution_count": 139,
   "id": "71cd8d7c",
   "metadata": {},
   "outputs": [
    {
     "data": {
      "image/png": "[encoded data removed]",
      "text/plain": [
       "<Figure size 640x480 with 2 Axes>"
      ]
     },
     "metadata": {},
     "output_type": "display_data"
    }
   ],
   "source": [
    "with plt.style.context('default'):\n",
    "    plt.hist2d(result_coma['Distancia'], result_coma['cz'], bins=150, \n",
    "               cmap='gray_r', norm = mpl.colors.Normalize())\n",
    "\n",
    "    plt.xlabel('Distancia (arcmin)')\n",
    "    plt.title('Densidad de distribución de galaxias en el Cúmulo de Coma')\n",
    "    plt.ylabel('cz (km/s)')\n",
    "    plt.colorbar(label='Número de Galaxias')\n",
    "    plt.savefig('Galaxy Density Distribution.png')"
   ]
  },
  {
   "cell_type": "markdown",
   "id": "0f05f38e",
   "metadata": {},
   "source": [
    "Se calculó los valores mínimo y máximo de cz:"
   ]
  },
  {
   "cell_type": "code",
   "execution_count": 140,
   "id": "2e829ea9",
   "metadata": {},
   "outputs": [
    {
     "name": "stdout",
     "output_type": "stream",
     "text": [
      "[4637.78224, 9275.864272]\n"
     ]
    }
   ],
   "source": [
    "minimo_cz = min(cz)\n",
    "maximo_cz = max(cz)\n",
    "print([minimo_cz,maximo_cz])"
   ]
  },
  {
   "cell_type": "markdown",
   "id": "3d437b3d",
   "metadata": {},
   "source": [
    "Se le aplicó la función de histograma a la columna cz:"
   ]
  },
  {
   "cell_type": "code",
   "execution_count": 141,
   "id": "09749af6",
   "metadata": {},
   "outputs": [],
   "source": [
    "histogram_cz = histograma(cz)"
   ]
  },
  {
   "cell_type": "markdown",
   "id": "7a7c2bd0",
   "metadata": {},
   "source": [
    "Se le realizó el curve_fit gausiano al histograma de cz para hallar los parámetros óptimos:"
   ]
  },
  {
   "cell_type": "code",
   "execution_count": 142,
   "id": "aa6a48e6",
   "metadata": {},
   "outputs": [],
   "source": [
    "parameters_cz, covariance_cz = curve_fit(gauss, histogram_cz[0], histogram_cz[1],p0=[37,7000,650])"
   ]
  },
  {
   "cell_type": "code",
   "execution_count": 143,
   "id": "7961dd3b",
   "metadata": {},
   "outputs": [
    {
     "name": "stdout",
     "output_type": "stream",
     "text": [
      "[6986.645543245626, 796.4266667248024]\n"
     ]
    }
   ],
   "source": [
    "sigma_cz = parameters_cz[2]\n",
    "media_cz = parameters_cz[1]\n",
    "print([media_cz,sigma_cz])"
   ]
  },
  {
   "cell_type": "markdown",
   "id": "fd521467",
   "metadata": {},
   "source": [
    "Se calculó los valores de cz límites que estan a 3σ de la media:"
   ]
  },
  {
   "cell_type": "code",
   "execution_count": 144,
   "id": "c70e2c53",
   "metadata": {},
   "outputs": [
    {
     "name": "stdout",
     "output_type": "stream",
     "text": [
      "[4597.365543071219, 9375.925543420033]\n"
     ]
    }
   ],
   "source": [
    "line_values_cz = [media_cz-3*sigma_cz,media_cz,media_cz+3*sigma_cz]\n",
    "print([line_values_cz[0],line_values_cz[2]])"
   ]
  },
  {
   "cell_type": "markdown",
   "id": "26ac8965",
   "metadata": {},
   "source": [
    "Se realizó el histograma de la distribución de velocidades con su respectivo ajuste gausiano:"
   ]
  },
  {
   "cell_type": "code",
   "execution_count": 145,
   "id": "84ad7e7c",
   "metadata": {},
   "outputs": [
    {
     "data": {
      "image/png": "[encoded data removed]",
      "text/plain": [
       "<Figure size 432x288 with 1 Axes>"
      ]
     },
     "metadata": {
      "needs_background": "light"
     },
     "output_type": "display_data"
    }
   ],
   "source": [
    "xc = np.linspace(minimo_cz,maximo_cz,200)\n",
    "yc = gauss(xc,*parameters_cz)\n",
    "plt.ticklabel_format(style='plain')\n",
    "plt.hist(cz,bins=20, color='red', alpha=0.7)\n",
    "plt.grid(axis='y', alpha=0.75)\n",
    "plt.title('Histograma de cz en el Cúmulo de Coma')\n",
    "plt.xlabel('cz (km/s)')\n",
    "plt.ylabel('Número de Galaxias')\n",
    "plt.plot(xc, yc, '-', label='Fit Gausiano')\n",
    "plt.xlim(minimo_cz,maximo_cz)\n",
    "plt.vlines(line_values_cz[1],0,gauss(line_values_cz[1],*parameters_cz), linestyle='--', color='cyan',label='Media: x0 = 6986.646')\n",
    "plt.legend()\n",
    "plt.savefig('Histogram of cz.png')"
   ]
  },
  {
   "cell_type": "markdown",
   "id": "2228b856",
   "metadata": {},
   "source": [
    "Del gráfico, se puede observar que el 100% de la data está dentro de los límites de 3σ; por lo que, de acuerdo a este criterio, para realizar los siguientes gráficos se procederá a utilizar el dataframe completo con todas las galaxias (result_total), además que no se utilizó el dataframe filtrado con el criterio del 3σ del histograma de velocidades (result_coma) porque no se contaban con los suficientes datos de magnitudes en niguno de los filtros."
   ]
  },
  {
   "cell_type": "code",
   "execution_count": 146,
   "id": "8d4dec9d",
   "metadata": {},
   "outputs": [
    {
     "data": {
      "text/plain": [
       "102.54237288135593"
      ]
     },
     "execution_count": 146,
     "metadata": {},
     "output_type": "execute_result"
    }
   ],
   "source": [
    "histograma_intervalo(media_cz-3*sigma_cz,media_cz+3*sigma_cz)*100/len(cz)"
   ]
  },
  {
   "cell_type": "code",
   "execution_count": 147,
   "id": "12be738d",
   "metadata": {},
   "outputs": [
    {
     "data": {
      "image/png": "[encoded data removed]",
      "text/plain": [
       "<Figure size 504x504 with 1 Axes>"
      ]
     },
     "metadata": {
      "needs_background": "light"
     },
     "output_type": "display_data"
    }
   ],
   "source": [
    "gr_color = gmag - rmag\n",
    "ur_color = umag - rmag\n",
    "fig = plt.figure(figsize=(7,7))\n",
    "plt.grid(True)\n",
    "plt.title('Diagrama Color Magnitud del Cúmulo de Coma (Filtros g,r)')\n",
    "plt.scatter(gr_color, imag,s=20)\n",
    "plt.xlabel('g-r (Color)')\n",
    "plt.ylabel('Magnitud r')\n",
    "fig.savefig('plotgr.png')"
   ]
  },
  {
   "cell_type": "code",
   "execution_count": 148,
   "id": "423b9657",
   "metadata": {},
   "outputs": [
    {
     "data": {
      "image/png": "[encoded data removed]",
      "text/plain": [
       "<Figure size 504x504 with 1 Axes>"
      ]
     },
     "metadata": {
      "needs_background": "light"
     },
     "output_type": "display_data"
    }
   ],
   "source": [
    "fig = plt.figure(figsize=(7,7))\n",
    "plt.grid(True)\n",
    "plt.title('Diagrama Color Magnitud del Cúmulo de Coma (Filtros u,r)')\n",
    "plt.scatter(ur_color, imag,s=20)\n",
    "plt.xlabel('u-r (Color)')\n",
    "plt.ylabel('Magnitud r')\n",
    "fig.savefig('plotur.png')"
   ]
  },
  {
   "cell_type": "code",
   "execution_count": null,
   "id": "e7a17b7b",
   "metadata": {},
   "outputs": [],
   "source": [
    "histogram1_zspx = histogram_zsp[0][np.logical_and(histogram_zsp[0] >= min(histogram_zsp[0]), histogram_zsp[0] <= 0.133)]\n",
    "histogram1_zspy = histogram1_zsp[1][0:len(histogram1_zspx)]\n",
    "\n",
    "histogram2_zspx = histogram_zsp[0][np.logical_and(histogram_zsp[0] > 0.133, histogram_zsp[0] <= max(histogram_zsp[0]))]\n",
    "histogram_zsp[1][17:]=0\n",
    "histogram2_zspy = histogram2_zsp[1][0:len(histogram2_zspx)]"
   ]
  }
 ],
 "metadata": {
  "kernelspec": {
   "display_name": "Python 3",
   "language": "python",
   "name": "python3"
  },
  "language_info": {
   "codemirror_mode": {
    "name": "ipython",
    "version": 3
   },
   "file_extension": ".py",
   "mimetype": "text/x-python",
   "name": "python",
   "nbconvert_exporter": "python",
   "pygments_lexer": "ipython3",
   "version": "3.8.8"
  }
 },
 "nbformat": 4,
 "nbformat_minor": 5
}
